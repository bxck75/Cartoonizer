{
  "nbformat": 4,
  "nbformat_minor": 0,
  "metadata": {
    "colab": {
      "name": "CartoonizerV6.ipynb",
      "version": "0.3.2",
      "provenance": [],
      "collapsed_sections": [
        "aVDha3ZylXvC",
        "HUnwEwrQ4wx8",
        "AyuiNzghlqmL",
        "OlnImHl5lcWo",
        "LTKx-CWO4evO",
        "MLQdxqp2mCxQ"
      ],
      "include_colab_link": true
    },
    "kernelspec": {
      "name": "python3",
      "display_name": "Python 3"
    },
    "accelerator": "GPU"
  },
  "cells": [
    {
      "cell_type": "markdown",
      "metadata": {
        "id": "view-in-github",
        "colab_type": "text"
      },
      "source": [
        "<a href=\"https://colab.research.google.com/github/bxck75/Cartoonizer/blob/master/CartoonizerV6.1.ipynb\" target=\"_parent\"><img src=\"https://colab.research.google.com/assets/colab-badge.svg\" alt=\"Open In Colab\"/></a>"
      ]
    },
    {
      "cell_type": "markdown",
      "metadata": {
        "id": "W4ZyoOWClEkH",
        "colab_type": "text"
      },
      "source": [
        "# Cartoon style on Youtube vids\n"
      ]
    },
    {
      "cell_type": "code",
      "metadata": {
        "id": "NtkH5nPJHSOu",
        "colab_type": "code",
        "cellView": "form",
        "colab": {}
      },
      "source": [
        "import os\n",
        "from IPython.display import clear_output\n",
        "os.chdir('/content')\n",
        "storage_mode=\"colab\" #@param ['colab','drive']\n",
        "# Handle storagemode choice\n",
        "if storage_mode == 'colab':\n",
        "  root = '/content/Cartoonizer/' \n",
        "else:\n",
        "  # sync google drive\n",
        "  from google.colab import drive\n",
        "  root = '/content/drive/My Drive/Cartoonizer' # google drive root\n",
        "  # if drive is needed uncomment\n",
        "  drive.mount('/content/drive',force_remount=True)\n",
        "# check if folder exists\n",
        "if not os.path.exists(root):\n",
        "   os.mkdir(root,777)\n",
        "# go to root    \n",
        "os.chdir(root)\n",
        "!rm -r ../sample_data\n",
        "clear_output()"
      ],
      "execution_count": 0,
      "outputs": []
    },
    {
      "cell_type": "code",
      "metadata": {
        "id": "nra-13NBdjTI",
        "colab_type": "code",
        "cellView": "form",
        "colab": {}
      },
      "source": [
        "# Pick a style\n",
        "styles = \"paprika\" #@param [\"shinkai\", \"hayao\", \"hosoda\", \"paprika\"]"
      ],
      "execution_count": 0,
      "outputs": []
    },
    {
      "cell_type": "code",
      "metadata": {
        "id": "BrzKhd6vcVmJ",
        "colab_type": "code",
        "colab": {},
        "cellView": "form"
      },
      "source": [
        "youtube_url = 'https://www.youtube.com/watch?v=x1m4-iZ-7CM'  #@param {type: \"string\"}\n",
        "video_name = 'loopstation'  #@param {type: \"string\"}"
      ],
      "execution_count": 0,
      "outputs": []
    },
    {
      "cell_type": "markdown",
      "metadata": {
        "id": "aVDha3ZylXvC",
        "colab_type": "text"
      },
      "source": [
        "# Setup"
      ]
    },
    {
      "cell_type": "markdown",
      "metadata": {
        "id": "woArQIe4a6lt",
        "colab_type": "text"
      },
      "source": [
        "###Youtube links"
      ]
    },
    {
      "cell_type": "code",
      "metadata": {
        "id": "h2YY_XYia345",
        "colab_type": "code",
        "colab": {}
      },
      "source": [
        "# set video details\n",
        "# video_name='lucky_chops' \n",
        "# vid='https://www.youtube.com/watch?v=gFrCyU_1zw0' # orbital - the box\n",
        "# video_name='busker' \n",
        "# vid=\"https://www.youtube.com/watch?v=l1wN6HuWrSE\" # oizo \n",
        "# video_name='techno_dark_'\n",
        "# vid='https://www.youtube.com/watch?v=lQnzf5vrK5U'\n",
        "# video_name='techno_dark_2'\n",
        "# vid='https://www.youtube.com/watch?v=aAMduklK3iU'\n",
        "# video_name='piano' \n",
        "# vid=\"https://www.youtube.com/watch?v=n-BtBRS1OoA\" # righthere\n",
        "# video_name=\"beatbox\" \n",
        "# vid=\"https://www.youtube.com/watch?v=DFjIi2hxxf0\" # our love \n",
        "# video_name='harmbeatbox' \n",
        "# vid=\"https://www.youtube.com/watch?v=Jbgb6Mz95rc\"\n",
        "# video_name='trainharmonica'\n",
        "# vid=\"https://www.youtube.com/watch?v=0dRwYEm3F2o\"\n",
        "# video_name='beatbox1'\n",
        "# vid=\"https://www.youtube.com/watch?v=oBjGRZgHgIA\"\n",
        "# video_name='harmonics'\n",
        "# vid=\"https://www.youtube.com/watch?v=K-PhBryFuIM\"\n",
        "# set video details\n",
        "# video_name='lucky_chops' \n",
        "# vid='https://www.youtube.com/watch?v=gFrCyU_1zw0' # orbital - the box\n",
        "# video_name='busker' \n",
        "# vid=\"https://www.youtube.com/watch?v=l1wN6HuWrSE\" # oizo \n",
        "# video_name='techno_dark_'\n",
        "# vid='https://www.youtube.com/watch?v=lQnzf5vrK5U'\n",
        "# video_name='techno_dark_2'\n",
        "# vid='https://www.youtube.com/watch?v=aAMduklK3iU'\n",
        "# video_name='piano' \n",
        "# vid=\"https://www.youtube.com/watch?v=n-BtBRS1OoA\" # righthere\n",
        "# video_name='this_land' \n",
        "# vid=\"https://www.youtube.com/watch?v=FZN-yJv82Rs\"\n",
        "# video_name=\"our_love\" \n",
        "# vid=\"https://www.youtube.com/watch?v=eyGWBTCZ3mk\" # our love \n",
        "# video_name='harmbeatbox' \n",
        "# vid=\"https://www.youtube.com/watch?v=Jbgb6Mz95rc\"\n",
        "# video_name='trainharmonica'\n",
        "# vid=\"https://www.youtube.com/watch?v=0dRwYEm3F2o\"\n",
        "# video_name='beatbox1'\n",
        "# vid=\"https://www.youtube.com/watch?v=oBjGRZgHgIA\"\n",
        "# video_name='harmonics'\n",
        "# vid=\"https://www.youtube.com/watch?v=K-PhBryFuIM\""
      ],
      "execution_count": 0,
      "outputs": []
    },
    {
      "cell_type": "markdown",
      "metadata": {
        "id": "ztbzuUeRbNR6",
        "colab_type": "text"
      },
      "source": [
        "###GitGo class"
      ]
    },
    {
      "cell_type": "code",
      "metadata": {
        "id": "o1FaJahHbJsS",
        "colab_type": "code",
        "colab": {}
      },
      "source": [
        "# Gitgo class\n",
        "class GitGo():\n",
        "  def __init__(self,rep,chdir=True,path='/content/'):\n",
        "    self.rep = rep\n",
        "    self.chdir = chdir\n",
        "    self.path = path\n",
        "    if self.rep == 'help':\n",
        "      self.help()\n",
        "    self.go() \n",
        "      \n",
        "  def help(self):\n",
        "    print(\"* pulls git rep and shows files \\\n",
        "            * returns root path for the repository \\\n",
        "            * Function needs repository <user>/<repository name> combination\\\n",
        "            * Switch chdir and define the rootpath for the repository\\\n",
        "            * Use : GitGo('<rep owner>/<rep name>', <True/False>, <root path>)\\\n",
        "          \")\n",
        "    sys.exit()\n",
        "    \n",
        "  def go(self):\n",
        "    self.rep=self.rep.split('/')\n",
        "    # change folder check\n",
        "    if self.chdir ==True:\n",
        "      #Switch to path\n",
        "      os.chdir(self.path)\n",
        "    print('Pulling the ' + self.rep[0]+'/'+self.rep[1] +' Repo...')\n",
        "    # pull get the git rep\n",
        "    os.system('git clone https://github.com/'+self.rep[0]+'/'+self.rep[1]+'.git')\n",
        "    # Set the return value for rep rootpath\n",
        "    self.PATH=self.path+self.rep[1]\n",
        "    # show imported files\n",
        "    os.system('ls ' + self.PATH)\n",
        "    \n",
        "  def __repr__(self):\n",
        "    return self.PATH"
      ],
      "execution_count": 0,
      "outputs": []
    },
    {
      "cell_type": "markdown",
      "metadata": {
        "id": "HUnwEwrQ4wx8",
        "colab_type": "text"
      },
      "source": [
        "### Imports!"
      ]
    },
    {
      "cell_type": "code",
      "metadata": {
        "id": "CbrFDsBLhgDZ",
        "colab_type": "code",
        "colab": {}
      },
      "source": [
        "# imports\n",
        "import time,os,glob,cv2\n",
        "import numpy as np\n",
        "from matplotlib import pyplot as plt\n",
        "from IPython.display import clear_output, display, Image\n",
        "from moviepy.editor import VideoFileClip\n",
        "# pip stuff\n",
        "!pip install youtube-dl imageio\n",
        "!pip install tensorflow-gpu==2.0.0-alpha0\n",
        "!pip install ffmpeg\n",
        "import imageio  \n",
        "import tensorflow as tf\n",
        "# tf.__version__\n",
        "\n",
        "# apt suff\n",
        "!apt update\n",
        "!apt install tree\n",
        "\n",
        "# git reps\n",
        "os.chdir(str(GitGo('mnicnc404/CartoonGan-tensorflow', True, root)))\n",
        "os.chdir(str(GitGo('keras-team/keras-contrib', True, root)))\n",
        "\n",
        "#convert keras to tf\n",
        "os.system('python convert_to_tf_keras.py && USE_TF_KERAS=1; python setup.py install')\n",
        "\n",
        "#function defines\n",
        "def resize(image,window_height = 800):\n",
        "    aspect_ratio = float(image.shape[1])/float(image.shape[0])\n",
        "    window_width = window_height/aspect_ratio\n",
        "    image = cv2.resize(image, (int(window_height),int(window_width)))\n",
        "    return image\n",
        "\n",
        "clear_output()"
      ],
      "execution_count": 0,
      "outputs": []
    },
    {
      "cell_type": "markdown",
      "metadata": {
        "id": "F8X9FaZoboN4",
        "colab_type": "text"
      },
      "source": [
        "### video details"
      ]
    },
    {
      "cell_type": "code",
      "metadata": {
        "id": "HHiLDFfwbjDb",
        "colab_type": "code",
        "colab": {
          "base_uri": "https://localhost:8080/",
          "height": 101
        },
        "outputId": "3ed063d0-4ac5-49e7-ac4f-0c8f18406a9a"
      },
      "source": [
        "# frame rate\n",
        "framerate = 0.1\n",
        "# set max img height\n",
        "max_size= 600 # frame height limit before it wil be resized\n",
        "print('sampling rate for frames = '+str(round(1/framerate,2)) + ' per second.')\n",
        "\n",
        "# Set i/o folders\n",
        "vid=youtube_url\n",
        "video_root = root+video_name\n",
        "# print(video_root)\n",
        "# prep the folders for the video frames\n",
        "if not os.path.exists(video_root):\n",
        "  os.mkdir(video_root,777)\n",
        "if not os.path.exists(video_root+\"/processed\"):\n",
        "  os.mkdir(video_root+\"/processed\",777)\n",
        "if not os.path.exists(video_root+'/frames'):\n",
        "  os.mkdir(video_root+'/frames',777)\n",
        "if not os.path.exists(video_root+\"/processed_frames\"):\n",
        "  os.mkdir(video_root+\"/processed_frames\",777)\n",
        "  \n",
        "# set the folder name in vars for later use\n",
        "frames_dir =video_root+'/frames'\n",
        "proc_frames_dir = video_root+\"/processed_frames\"\n",
        "\n",
        "# set original filenames\n",
        "video_file= video_root +'/'+ 'video.mp4'\n",
        "audio_file= video_root +'/'+ 'audio.mp3'\n",
        "\n",
        "# Check if paths are correct\n",
        "print(frames_dir)\n",
        "print(proc_frames_dir)\n",
        "print(video_file)\n",
        "print(audio_file)"
      ],
      "execution_count": 9,
      "outputs": [
        {
          "output_type": "stream",
          "text": [
            "sampling rate for frames = 10.0 per second.\n",
            "/content/Cartoonizer/loopstation/frames\n",
            "/content/Cartoonizer/loopstation/processed_frames\n",
            "/content/Cartoonizer/loopstation/video.mp4\n",
            "/content/Cartoonizer/loopstation/audio.mp3\n"
          ],
          "name": "stdout"
        }
      ]
    },
    {
      "cell_type": "markdown",
      "metadata": {
        "id": "QJddYD7Rhj7G",
        "colab_type": "text"
      },
      "source": [
        "## Rip the video and audio"
      ]
    },
    {
      "cell_type": "code",
      "metadata": {
        "id": "oUSMAwetkOxt",
        "colab_type": "code",
        "colab": {}
      },
      "source": [
        "# rip video from youtube\n",
        "os.system('echo youtube-dl '+vid+' --list-formats')\n",
        "\n",
        "# get the mp4\n",
        "print('Ripping video : '+ vid )\n",
        "!youtube-dl {vid} --output '{video_file}' --format mp4\n",
        "\n",
        "# split of the mp3\n",
        "clip = VideoFileClip(video_file)\n",
        "print('Ripping audio...' + audio_file)\n",
        "clip.audio.write_audiofile(audio_file)\n",
        "\n",
        "#capture the video frames\n",
        "vidcap = cv2.VideoCapture(video_file)\n",
        "\n",
        "# count total frames\n",
        "vidc = imageio.get_reader(video_file,  'ffmpeg')\n",
        "num_frames=vidc._meta['nframes']\n",
        "\n",
        "# frame grab function\n",
        "def getFrame(sec):\n",
        "  vidcap.set(cv2.CAP_PROP_POS_MSEC,sec*1000)\n",
        "  hasFrames,image = vidcap.read()\n",
        "  if hasFrames:\n",
        "#     print('/content/Cartoonizer/loopstation/paths.txt')\n",
        "#     print(frames_dir+\"/image\"+str(count)+\".jpg\")\n",
        "    cv2.imwrite(frames_dir+\"/image\"+str(count)+\".jpg\", image)     # save frame as JPG file\n",
        "  return hasFrames\n",
        "\n",
        "sec = 0\n",
        "FrameRate = framerate\n",
        "count=1\n",
        "success = getFrame(sec)\n",
        "# As long as there are frames\n",
        "print(\"Splitting in frames...this might take a while...\")\n",
        "while success:\n",
        "  count = count + 1\n",
        "  frames_left = num_frames -1\n",
        "  # print('frames to go ' + str(frames_left))\n",
        "  sec = sec + FrameRate\n",
        "  sec = round(sec, 2)\n",
        "  success = getFrame(sec)\n",
        "  \n",
        "clear_output()"
      ],
      "execution_count": 0,
      "outputs": []
    },
    {
      "cell_type": "markdown",
      "metadata": {
        "id": "OlnImHl5lcWo",
        "colab_type": "text"
      },
      "source": [
        "### Set Dimensions"
      ]
    },
    {
      "cell_type": "code",
      "metadata": {
        "id": "QS3XPGESdkQi",
        "colab_type": "code",
        "colab": {}
      },
      "source": [
        "# generate the movie sequence\n",
        "searchedfiles = glob.glob(frames_dir+'/*.jpg')\n",
        "files = sorted( searchedfiles, key = lambda file: os.path.getctime(file))\n",
        "\n",
        "files_sorted=[]\n",
        "combined_sorted=[]\n",
        "# fill the frame list before the processed image even beeing there\n",
        "for i in files:\n",
        "  # split off the filename\n",
        "  isa = i.split('/')\n",
        "  # append it with the processed folder path and file definition\n",
        "  # set filename\n",
        "  com_frame_filename =\"file '\"+proc_frames_dir+\"/comparison/\"+isa[len(isa)-1]+\"'\\n\"\n",
        "   #set filename\n",
        "  frame_filename =\"file '\"+proc_frames_dir+\"/\"+styles+\"/\"+isa[len(isa)-1]+\"'\\n\"\n",
        "  # append to the lists\n",
        "  combined_sorted.append(com_frame_filename)\n",
        "  files_sorted.append(frame_filename)\n",
        "  \n",
        "# Write the frame lists for both vids \n",
        "with open(video_root+'/paths.txt', 'w') as in_files:\n",
        "  in_files.writelines(fn for fn in files_sorted)\n",
        "with open(video_root+'/compare_paths.txt', 'w') as in_files:\n",
        "  in_files.writelines(fn for fn in combined_sorted)\n",
        "\n",
        "# for file in files check height\n",
        "for f in files:\n",
        "  img = cv2.imread(f)\n",
        "  h,w,c = img.shape\n",
        "  # Resize if needed\n",
        "  if h > max_size:\n",
        "    img_resized = resize(img,window_height = max_size)\n",
        "    rh,rw,rc = img_resized.shape\n",
        "    cv2.imwrite(f,img_resized)"
      ],
      "execution_count": 0,
      "outputs": []
    },
    {
      "cell_type": "markdown",
      "metadata": {
        "id": "LTKx-CWO4evO",
        "colab_type": "text"
      },
      "source": [
        "# Run the Cartoonizer"
      ]
    },
    {
      "cell_type": "code",
      "metadata": {
        "id": "f92qp_2idsV2",
        "colab_type": "code",
        "colab": {}
      },
      "source": [
        "# run the Cartoonizer\n",
        "os.system(\"python \"+root+\"/CartoonGan-tensorflow/cartoonize.py \\\n",
        "  --comparison_view horizontal \\\n",
        "  --keep_original_size \\\n",
        "  --batch_size 8 \\\n",
        "  --styles \"+styles+\" \\\n",
        "  --input_dir '\"+frames_dir+\"' \\\n",
        "  --output_dir '\"+proc_frames_dir +\"'\")\n"
      ],
      "execution_count": 0,
      "outputs": []
    },
    {
      "cell_type": "markdown",
      "metadata": {
        "id": "X4-48Kll4X6l",
        "colab_type": "text"
      },
      "source": [
        "## Forming the new video "
      ]
    },
    {
      "cell_type": "code",
      "metadata": {
        "id": "XK_X9KDAmJzz",
        "colab_type": "code",
        "colab": {}
      },
      "source": [
        " \n",
        "!ffmpeg -y -r 1/{framerate} -f concat -safe 0 -i  '{video_root}'\"/paths.txt\" -c:v libx264 -vf \"fps=1/\"{framerate}\",format=yuv420p\" '{video_root}'\"/processed_video.mp4\"\n",
        "!ffmpeg -i '{video_root}'\"/processed_video.mp4\" -i '{audio_file}' -shortest '{video_root}'\"/final_processed_video.mp4\"\n",
        "\n",
        "!ffmpeg -y -r 1/{framerate} -f concat -safe 0 -i  '{video_root}'\"/compare_paths.txt\" -c:v libx264 -vf \"fps=1/\"{framerate}\",format=yuv420p\" '{video_root}'\"/processed_compare_video.mp4\"\n",
        "!ffmpeg -i '{video_root}'\"/processed_compare_video.mp4\" -i '{audio_file}' -shortest '{video_root}'\"/final_processed_compare_video.mp4\"\n",
        "clear_output()"
      ],
      "execution_count": 0,
      "outputs": []
    },
    {
      "cell_type": "code",
      "metadata": {
        "id": "Ih70jDblVq5k",
        "colab_type": "code",
        "colab": {}
      },
      "source": [
        "\n",
        "!ls -l /content/Cartoonizer/CartoonGan-tensorflow\n",
        "!ls -l /content/Cartoonizer/keras-contrib\n",
        "# zip the complete project for download\n",
        "!zip -r /content/Cartoonizer_sources.zip /content\n",
        "clear_output()"
      ],
      "execution_count": 0,
      "outputs": []
    },
    {
      "cell_type": "code",
      "metadata": {
        "id": "dhLAYt9myGIm",
        "colab_type": "code",
        "colab": {}
      },
      "source": [
        "# !rm -r /content/Cartoonizer/loopstation"
      ],
      "execution_count": 0,
      "outputs": []
    },
    {
      "cell_type": "markdown",
      "metadata": {
        "id": "MLQdxqp2mCxQ",
        "colab_type": "text"
      },
      "source": [
        "## View results"
      ]
    },
    {
      "cell_type": "code",
      "metadata": {
        "id": "_11ydVYcgrLJ",
        "colab_type": "code",
        "colab": {}
      },
      "source": [
        "# Debug displays all frames.......LAGS LIKE a MOFO!\n",
        "# folders = [f for f in glob.glob(proc_frames_dir + \"**/*\", recursive=True)]\n",
        "# for d in folders:\n",
        "#   !tree '{d}'\n",
        "#   files = [f for f in glob.glob( d + \"**/*.jpg\", recursive=True )]\n",
        "#   for f in files:\n",
        "#       display(Image(f))\n"
      ],
      "execution_count": 0,
      "outputs": []
    },
    {
      "cell_type": "code",
      "metadata": {
        "id": "qJ93vblUf--F",
        "colab_type": "code",
        "colab": {}
      },
      "source": [
        "# # experimental filters and effects after this cel!\n",
        "# import moviepy\n",
        "# from moviepy.editor import VideoFileClip, clips_array, vfx\n",
        "# print(dir( moviepy.editor))\n",
        "# # def invert_green_blue(image):\n",
        "# #     return image[:,:,[0,2,1]]\n",
        "# # def invert_red_green(image):\n",
        "# #     return image[:,[0,2,1],:\n",
        "\n",
        "# clip1 = VideoFileClip('/content/Cartoonizer/final_processed_compare_'+ video_name + \"_vid.mp4\").margin(1) # add 10px contour\n",
        "# clip1 = clip1.fx( vfx.colorx, 1.3)\n",
        "# # clip2 = clip1.fx( vfx.mirror_y)\n",
        "# # clip3 = clip1.fx( vfx.mirror_x)\n",
        "# # clip4 = clip1.fx( vfx.mirror_y)\n",
        "# # clip5 = clip1.fx( vfx.colorx, 1.3) # up 40%\n",
        "# # modifiedClip1 = clip1.fl_image( invert_red_green )\n",
        "# # modifiedClip2 = clip1.fl_image( invert_green_blue )\n",
        "# final_clip = clips_array([[clip1]])\n",
        "# final_clip.write_videofile(\"/content/Cartoonizer/fx_stack\"+video_name +\".mp4\")\n",
        "\n",
        "\n"
      ],
      "execution_count": 0,
      "outputs": []
    },
    {
      "cell_type": "code",
      "metadata": {
        "id": "I3C5JwoLUMEd",
        "colab_type": "code",
        "colab": {}
      },
      "source": [
        "\n",
        "# from google.colab import drive\n",
        "# import os\n",
        "# video_name='trainrolsin'\n",
        "# drive.mount('/content/drive')\n",
        "# if not os.path.exists(\"/content/drive/My Drive/\"+video_name):\n",
        "#   os.mkdir(\"/content/drive/My Drive/\"+video_name,777)\n",
        "#   os.mkdir(\"/content/drive/My Drive/\"+video_name+\"_frames\",777)\n",
        " \n",
        "# !mv '/content/Cartoonizer/processed_'{video_name}'_frames/*' '/content/drive/My Drive/'{video_name}'_frames/'"
      ],
      "execution_count": 0,
      "outputs": []
    },
    {
      "cell_type": "code",
      "metadata": {
        "id": "-1joZEA3gQAe",
        "colab_type": "code",
        "colab": {}
      },
      "source": [
        "# %from moviepy.editor import *\n",
        "# clip = (VideoFileClip( root+ video_name \" + \".mp4\")\n",
        "# #         .fx( vfx.resize, width=460) # resize (keep aspect ratio)\n",
        "# #         .fx( vfx.speedx, 2) # double the speed\n",
        "#         .fx( vfx.colorx, 1.3)) # darken the picture\n",
        "\n",
        "# clip.write_videofile(\"brighness_video_name.mp4\")"
      ],
      "execution_count": 0,
      "outputs": []
    },
    {
      "cell_type": "code",
      "metadata": {
        "id": "mTDh-xFwgor1",
        "colab_type": "code",
        "colab": {}
      },
      "source": [
        "# from moviepy.editor import VideoFileClip, concatenate_videoclips\n",
        "# clip1 = VideoFileClip( root + video_name \" + \".mp4\")\n",
        "# clip2 = VideoFileClip( root + video_name \" + \".mp4\").subclip(50,60)\n",
        "# clip3 = VideoFileClip( root + video_name \" + \".mp4\")\n",
        "# # final_clip = concatenate_videoclips([clip1,clip2,clip3])\n",
        "# final_clip = clips_array([[clip1, clip2],\n",
        "#                           [clip3, clip4]])\n",
        "# final_clip.write_videofile(video_name+\"_concatenation.mp4\")"
      ],
      "execution_count": 0,
      "outputs": []
    },
    {
      "cell_type": "code",
      "metadata": {
        "id": "WpR6xyop90M_",
        "colab_type": "code",
        "colab": {}
      },
      "source": [
        "# All input widgets!\n",
        "sys.exit()\n",
        "#@title Example form fields\n",
        "#@markdown Forms support many types of fields.\n",
        "\n",
        "no_type_checking = 'name'  #@param\n",
        "string_type = 'example'  #@param {type: \"string\"}\n",
        "slider_value = 142  #@param {type: \"slider\", min: 100, max: 200}\n",
        "number = 102  #@param {type: \"number\"}\n",
        "date = '2010-11-05'  #@param {type: \"date\"}\n",
        "pick_me = \"monday\"  #@param ['monday', 'tuesday', 'wednesday', 'thursday']\n",
        "select_or_input = \"apples\" #@param [\"apples\", \"bananas\", \"oranges\"] {allow-input: true}\n",
        "#@markdown ---\n"
      ],
      "execution_count": 0,
      "outputs": []
    },
    {
      "cell_type": "code",
      "metadata": {
        "id": "g7Cz31u8-Tp2",
        "colab_type": "code",
        "colab": {}
      },
      "source": [
        "from IPython.display import display, Javascript\n",
        "from google.colab.output import eval_js\n",
        "from base64 import b64decode\n",
        "\n",
        "def take_photo(filename='photo.jpg', quality=0.8):\n",
        "  js = Javascript('''\n",
        "    async function takePhoto(quality) {\n",
        "      const div = document.createElement('div');\n",
        "      const capture = document.createElement('button');\n",
        "      capture.textContent = 'Capture';\n",
        "      div.appendChild(capture);\n",
        "\n",
        "      const video = document.createElement('video');\n",
        "      video.style.display = 'block';\n",
        "      const stream = await navigator.mediaDevices.getUserMedia({video: true});\n",
        "\n",
        "      document.body.appendChild(div);\n",
        "      div.appendChild(video);\n",
        "      video.srcObject = stream;\n",
        "      await video.play();\n",
        "\n",
        "      // Resize the output to fit the video element.\n",
        "      google.colab.output.setIframeHeight(document.documentElement.scrollHeight, true);\n",
        "\n",
        "      // Wait for Capture to be clicked.\n",
        "      await new Promise((resolve) => capture.onclick = resolve);\n",
        "\n",
        "      const canvas = document.createElement('canvas');\n",
        "      canvas.width = video.videoWidth;\n",
        "      canvas.height = video.videoHeight;\n",
        "      canvas.getContext('2d').drawImage(video, 0, 0);\n",
        "      stream.getVideoTracks()[0].stop();\n",
        "      div.remove();\n",
        "      return canvas.toDataURL('image/jpeg', quality);\n",
        "    }\n",
        "    ''')\n",
        "  display(js)\n",
        "  data = eval_js('takePhoto({})'.format(quality))\n",
        "  binary = b64decode(data.split(',')[1])\n",
        "  with open(filename, 'wb') as f:\n",
        "    f.write(binary)\n",
        "  return filename"
      ],
      "execution_count": 0,
      "outputs": []
    },
    {
      "cell_type": "code",
      "metadata": {
        "id": "oOF0zRYS-Tok",
        "colab_type": "code",
        "colab": {}
      },
      "source": [
        "from IPython.display import Image\n",
        "try:\n",
        "  filename = take_photo()\n",
        "  print('Saved to {}'.format(filename))\n",
        "  \n",
        "  # Show the image which was just taken.\n",
        "  display(Image(filename))\n",
        "except Exception as err:\n",
        "  # Errors will be thrown if the user does not have a webcam or if they do not\n",
        "  # grant the page permission to access it.\n",
        "  print(str(err))"
      ],
      "execution_count": 0,
      "outputs": []
    }
  ]
}