{
  "nbformat": 4,
  "nbformat_minor": 0,
  "metadata": {
    "colab": {
      "name": "CartoonizerV8.ipynb",
      "version": "0.3.2",
      "provenance": [],
      "collapsed_sections": [],
      "toc_visible": true,
      "include_colab_link": true
    },
    "kernelspec": {
      "name": "python3",
      "display_name": "Python 3"
    },
    "accelerator": "GPU"
  },
  "cells": [
    {
      "cell_type": "markdown",
      "metadata": {
        "id": "view-in-github",
        "colab_type": "text"
      },
      "source": [
        "<a href=\"https://colab.research.google.com/github/bxck75/Cartoonizer/blob/master/CartoonizerV8.ipynb\" target=\"_parent\"><img src=\"https://colab.research.google.com/assets/colab-badge.svg\" alt=\"Open In Colab\"/></a>"
      ]
    },
    {
      "cell_type": "markdown",
      "metadata": {
        "id": "W4ZyoOWClEkH",
        "colab_type": "text"
      },
      "source": [
        "# Cartoon style on Youtube vids\n"
      ]
    },
    {
      "cell_type": "markdown",
      "metadata": {
        "id": "smtHS24i35ew",
        "colab_type": "text"
      },
      "source": [
        "moet echt combo van deze maken https://www.youtube.com/watch?v=D0S56AS1JPo en https://www.youtube.com/watch?v=KnnbYagLaXM\n",
        "of https://www.youtube.com/watch?v=-GxofRLnB7o of https://www.youtube.com/watch?v=prsZcOdgCu8 of https://www.youtube.com/watch?v=-GxofRLnB7o"
      ]
    },
    {
      "cell_type": "code",
      "metadata": {
        "id": "NtkH5nPJHSOu",
        "colab_type": "code",
        "cellView": "form",
        "colab": {}
      },
      "source": [
        "import os\n",
        "from IPython.display import clear_output\n",
        "os.chdir('/content')\n",
        "storage_mode=\"colab\" #@param ['colab','drive']\n",
        "# Handle storagemode choice\n",
        "if storage_mode == 'colab':\n",
        "  root = '/content/Cartoonizer/' \n",
        "else:\n",
        "  # sync google drive\n",
        "  from google.colab import drive\n",
        "  root = '/content/drive/My Drive/Cartoonizer' # google drive root\n",
        "  # if drive is needed uncomment\n",
        "  drive.mount('/content/drive',force_remount=True)\n",
        "# check if folder exists\n",
        "if not os.path.exists(root):\n",
        "   os.mkdir(root,777)\n",
        "# go to root    \n",
        "os.chdir(root)\n",
        "!rm -r ../sample_data\n",
        "clear_output()"
      ],
      "execution_count": 0,
      "outputs": []
    },
    {
      "cell_type": "code",
      "metadata": {
        "id": "nra-13NBdjTI",
        "colab_type": "code",
        "cellView": "form",
        "colab": {}
      },
      "source": [
        "# Pick a style\n",
        "styles = \"hosoda\" #@param [\"shinkai\", \"hayao\", \"hosoda\", \"paprika\"]"
      ],
      "execution_count": 0,
      "outputs": []
    },
    {
      "cell_type": "code",
      "metadata": {
        "id": "BrzKhd6vcVmJ",
        "colab_type": "code",
        "cellView": "both",
        "outputId": "0f643600-3a4a-4c03-9915-558adf864910",
        "colab": {
          "base_uri": "https://localhost:8080/",
          "height": 71
        }
      },
      "source": [
        "# set video details\n",
        "# copy this list bhind the #@param on the name input\n",
        "def new_item():\n",
        "  print(\"[\",end='')\n",
        "  for name,url in urls.items():\n",
        "    print('\"'+name+'\",',end='')\n",
        "  print(\"]\")\n",
        "\n",
        "urls={'beatbox':'https://www.youtube.com/watch?v=Xn63LCkd8as',\n",
        "      'harmbeatbox':'https://www.youtube.com/watch?v=Jbgb6Mz95rc',\n",
        "      'trainharmonica':'https://www.youtube.com/watch?v=0dRwYEm3F2o',\n",
        "      'beatbox1':'https://www.youtube.com/watch?v=oBjGRZgHgIA',\n",
        "      'harmonics':'https://www.youtube.com/watch?v=K-PhBryFuIM',\n",
        "      'boogy_woogy_stomp':'https://www.youtube.com/watch?v=wvx_UsJ2U5c',\n",
        "      'busker':'https://www.youtube.com/watch?v=l1wN6HuWrSE', \n",
        "      'drum_boogy':'https://www.youtube.com/watch?v=lQnzf5vrK5U', \n",
        "      '5_boogies':'https://www.youtube.com/watch?v=KIeuY3rlYzQ',\n",
        "      'boogy1':'https://www.youtube.com/watch?v=VA11vaxAvBQ', \n",
        "      'boogy':'https://www.youtube.com/watch?v=VT9dP6cfsFM', \n",
        "      'little_richy':'https://www.youtube.com/watch?v=vPKDjqDflBc',\n",
        "      'moet_boogy':'https://www.youtube.com/watch?v=WSFX61KN8kU',\n",
        "      'moet_dancers':'https://www.youtube.com/watch?v=D0S56AS1JPo',\n",
        "     }\n",
        "\n",
        "#displaywhen adding new items\n",
        "new_item()\n",
        "# input\n",
        "name = 'moet_boogy'  #@param [\"moet_boogy\",\"moet_dancers\",\"moet_boody\",\"drum_boogy\",\"beatbox\",\"harmbeatbox\",\"trainharmonica\",\"beatbox1\",\"harmonics\",\"boogy_woogy_stomp\",\"busker\",\"techno_dark\",\"techno_dark_2\",\"boogy1\",\"boogy\",\"little_richy\"]\n",
        "# loop over the dict items\n",
        "# for k, v in urls.items():\n",
        "#   print(k)\n",
        "video_name = name\n",
        "vid = urls[name]\n",
        "print('You picked ' + name +' : ' + vid)"
      ],
      "execution_count": 5,
      "outputs": [
        {
          "output_type": "stream",
          "text": [
            "[\"beatbox\",\"harmbeatbox\",\"trainharmonica\",\"beatbox1\",\"harmonics\",\"boogy_woogy_stomp\",\"busker\",\"drum_boogy\",\"5_boogies\",\"boogy1\",\"boogy\",\"little_richy\",\"moet_boogy\",\"moet_dancers\",]\n",
            "You picked moet_boogy : https://www.youtube.com/watch?v=WSFX61KN8kU\n"
          ],
          "name": "stdout"
        }
      ]
    },
    {
      "cell_type": "markdown",
      "metadata": {
        "id": "aVDha3ZylXvC",
        "colab_type": "text"
      },
      "source": [
        "# Setup"
      ]
    },
    {
      "cell_type": "markdown",
      "metadata": {
        "id": "ztbzuUeRbNR6",
        "colab_type": "text"
      },
      "source": [
        "###GitGo class"
      ]
    },
    {
      "cell_type": "code",
      "metadata": {
        "id": "o1FaJahHbJsS",
        "colab_type": "code",
        "cellView": "both",
        "colab": {}
      },
      "source": [
        "# Gitgo class\n",
        "class GitGo():\n",
        "  def __init__(self,rep,chdir=True,path='/content/'):\n",
        "    self.rep = rep\n",
        "    self.chdir = chdir\n",
        "    self.path = path\n",
        "    if self.rep == 'help':\n",
        "      self.help()\n",
        "    self.go() \n",
        "      \n",
        "  def help(self):\n",
        "    print(\"* pulls git rep and shows files \\\n",
        "            * returns root path for the repository \\\n",
        "            * Function needs repository <user>/<repository name> combination\\\n",
        "            * Switch chdir and define the rootpath for the repository\\\n",
        "            * Use : GitGo('<rep owner>/<rep name>', <True/False>, <root path>)\\\n",
        "          \")\n",
        "    sys.exit()\n",
        "    \n",
        "  def go(self):\n",
        "    self.rep=self.rep.split('/')\n",
        "    # change folder check\n",
        "    if self.chdir ==True:\n",
        "      #Switch to path\n",
        "      os.chdir(self.path)\n",
        "    print('Pulling the ' + self.rep[0]+'/'+self.rep[1] +' Repo...')\n",
        "    # pull get the git rep\n",
        "    os.system('git clone https://github.com/'+self.rep[0]+'/'+self.rep[1]+'.git')\n",
        "    #@markdown Set the return value for rep rootpath\n",
        "    self.PATH=self.path+self.rep[1]\n",
        "    # show imported files\n",
        "    os.system('ls ' + self.PATH)\n",
        "    \n",
        "  def __repr__(self):\n",
        "    return self.PATH"
      ],
      "execution_count": 0,
      "outputs": []
    },
    {
      "cell_type": "code",
      "metadata": {
        "id": "4xc4eV3yH770",
        "colab_type": "code",
        "colab": {}
      },
      "source": [
        "def sys_run(cmd):\n",
        "  for line in os.popen(cmd).read().split('\\n'):\n",
        "    print(line)"
      ],
      "execution_count": 0,
      "outputs": []
    },
    {
      "cell_type": "markdown",
      "metadata": {
        "id": "HUnwEwrQ4wx8",
        "colab_type": "text"
      },
      "source": [
        "### Imports!"
      ]
    },
    {
      "cell_type": "code",
      "metadata": {
        "id": "CbrFDsBLhgDZ",
        "colab_type": "code",
        "colab": {}
      },
      "source": [
        "# imports\n",
        "import time,os,glob,cv2\n",
        "import numpy as np\n",
        "from matplotlib import pyplot as plt\n",
        "from IPython.display import clear_output, display, Image, HTML\n",
        "from moviepy.editor import VideoFileClip\n",
        "from base64 import b64encode\n",
        "# pip stuff\n",
        "!pip install youtube-dl imageio\n",
        "!pip install tensorflow-gpu==2.0.0-alpha0\n",
        "!pip install ffmpeg\n",
        "import imageio  \n",
        "import tensorflow as tf\n",
        "# tf.__version__\n",
        "\n",
        "# apt suff\n",
        "!apt update\n",
        "!apt install tree\n",
        "\n",
        "# git reps\n",
        "os.chdir(str(GitGo('mnicnc404/CartoonGan-tensorflow', True, root)))\n",
        "os.chdir(str(GitGo('keras-team/keras-contrib', True, root)))\n",
        "\n",
        "#convert keras to tf\n",
        "os.system('python convert_to_tf_keras.py && USE_TF_KERAS=1; python setup.py install')\n",
        "\n",
        "#function defines\n",
        "def resize(image,window_height = 800):\n",
        "    aspect_ratio = float(image.shape[1])/float(image.shape[0])\n",
        "    window_width = window_height/aspect_ratio\n",
        "    image = cv2.resize(image, (int(window_height),int(window_width)))\n",
        "    return image\n",
        "\n",
        "clear_output()"
      ],
      "execution_count": 0,
      "outputs": []
    },
    {
      "cell_type": "markdown",
      "metadata": {
        "id": "F8X9FaZoboN4",
        "colab_type": "text"
      },
      "source": [
        "### video details"
      ]
    },
    {
      "cell_type": "code",
      "metadata": {
        "id": "HHiLDFfwbjDb",
        "colab_type": "code",
        "outputId": "67fd3f70-08b9-4126-bbb5-3881042dd92b",
        "colab": {
          "base_uri": "https://localhost:8080/",
          "height": 119
        }
      },
      "source": [
        "# frame rate\n",
        "framerate = 0.1\n",
        "# set max img height\n",
        "max_size= 600 # frame height limit before it wil be resized\n",
        "print('sampling rate for frames = '+str(round(1/framerate,2)) + ' per second.')\n",
        "\n",
        "# Set i/o folders\n",
        "\n",
        "video_root = root+video_name\n",
        "# print(video_root)\n",
        "# prep the folders for the video frames\n",
        "if not os.path.exists(video_root):\n",
        "  os.mkdir(video_root,777)\n",
        "if not os.path.exists(video_root+\"/processed\"):\n",
        "  os.mkdir(video_root+\"/processed\",777)\n",
        "if not os.path.exists(video_root+'/frames'):\n",
        "  os.mkdir(video_root+'/frames',777)\n",
        "if not os.path.exists(video_root+\"/processed_frames\"):\n",
        "  os.mkdir(video_root+\"/processed_frames\",777)\n",
        "  \n",
        "# set the folder name in vars for later use\n",
        "frames_dir =video_root+'/frames'\n",
        "proc_frames_dir = video_root+\"/processed_frames\"\n",
        "\n",
        "# set original filenames\n",
        "video_file= video_root +'/'+ 'video.mp4'\n",
        "audio_file= video_root +'/'+ 'audio.mp3'\n",
        "\n",
        "# Check if paths are correct\n",
        "print(frames_dir)\n",
        "print(proc_frames_dir)\n",
        "print(video_file)\n",
        "print(audio_file)\n",
        "print(video_file)"
      ],
      "execution_count": 9,
      "outputs": [
        {
          "output_type": "stream",
          "text": [
            "sampling rate for frames = 10.0 per second.\n",
            "/content/Cartoonizer/moet_boogy/frames\n",
            "/content/Cartoonizer/moet_boogy/processed_frames\n",
            "/content/Cartoonizer/moet_boogy/video.mp4\n",
            "/content/Cartoonizer/moet_boogy/audio.mp3\n",
            "/content/Cartoonizer/moet_boogy/video.mp4\n"
          ],
          "name": "stdout"
        }
      ]
    },
    {
      "cell_type": "code",
      "metadata": {
        "id": "7qeuIQbUtu_M",
        "colab_type": "code",
        "colab": {
          "base_uri": "https://localhost:8080/",
          "height": 717
        },
        "outputId": "08f38c0d-a522-4b58-bbdd-605a011067f0"
      },
      "source": [
        "from moviepy.editor import VideoFileClip, concatenate_videoclips\n",
        "# !mv \"/content/nr1_up_speed (5).mp4\" \"/content/Cartoonizer/moet_boogy/nr1_up_speed.mp4\"\n",
        "!cp \"/content/Cartoonizer/moet_boogy/nr2_up_speed (7).mp4\" \"/content/Cartoonizer/moet_boogy/nr2_up_speed.mp4\"\n",
        "clip1 = VideoFileClip(\"/content/Cartoonizer/moet_boogy/nr1_up_speed.mp4\")\n",
        "clip2 = VideoFileClip(\"/content/Cartoonizer/moet_boogy/nr2_up_speed.mp4\")\n",
        "# clip3 = VideoFileClip(\"/content/nrmyvideo3.mp4\")\n",
        "video = CompositeVideoClip([clip1.set_start(37), # start at t=5s\n",
        "                            clip2.set_start(2)]) # start at t=9s\n",
        "final_clip = concatenate_videoclips([clip1,clip1])\n",
        "final_clip.write_videofile(\"my_concatenation.mp4\")"
      ],
      "execution_count": 19,
      "outputs": [
        {
          "output_type": "error",
          "ename": "OSError",
          "evalue": "ignored",
          "traceback": [
            "\u001b[0;31m---------------------------------------------------------------------------\u001b[0m",
            "\u001b[0;31mIndexError\u001b[0m                                Traceback (most recent call last)",
            "\u001b[0;32m/usr/local/lib/python3.6/dist-packages/moviepy/video/io/ffmpeg_reader.py\u001b[0m in \u001b[0;36mffmpeg_parse_infos\u001b[0;34m(filename, print_infos, check_duration, fps_source)\u001b[0m\n\u001b[1;32m    284\u001b[0m             \u001b[0mindex\u001b[0m \u001b[0;34m=\u001b[0m \u001b[0;34m-\u001b[0m\u001b[0;36m1\u001b[0m \u001b[0;32mif\u001b[0m \u001b[0mis_GIF\u001b[0m \u001b[0;32melse\u001b[0m \u001b[0;36m0\u001b[0m\u001b[0;34m\u001b[0m\u001b[0;34m\u001b[0m\u001b[0m\n\u001b[0;32m--> 285\u001b[0;31m             \u001b[0mline\u001b[0m \u001b[0;34m=\u001b[0m \u001b[0;34m[\u001b[0m\u001b[0ml\u001b[0m \u001b[0;32mfor\u001b[0m \u001b[0ml\u001b[0m \u001b[0;32min\u001b[0m \u001b[0mlines\u001b[0m \u001b[0;32mif\u001b[0m \u001b[0mkeyword\u001b[0m \u001b[0;32min\u001b[0m \u001b[0ml\u001b[0m\u001b[0;34m]\u001b[0m\u001b[0;34m[\u001b[0m\u001b[0mindex\u001b[0m\u001b[0;34m]\u001b[0m\u001b[0;34m\u001b[0m\u001b[0;34m\u001b[0m\u001b[0m\n\u001b[0m\u001b[1;32m    286\u001b[0m             \u001b[0mmatch\u001b[0m \u001b[0;34m=\u001b[0m \u001b[0mre\u001b[0m\u001b[0;34m.\u001b[0m\u001b[0mfindall\u001b[0m\u001b[0;34m(\u001b[0m\u001b[0;34m\"([0-9][0-9]:[0-9][0-9]:[0-9][0-9].[0-9][0-9])\"\u001b[0m\u001b[0;34m,\u001b[0m \u001b[0mline\u001b[0m\u001b[0;34m)\u001b[0m\u001b[0;34m[\u001b[0m\u001b[0;36m0\u001b[0m\u001b[0;34m]\u001b[0m\u001b[0;34m\u001b[0m\u001b[0;34m\u001b[0m\u001b[0m\n",
            "\u001b[0;31mIndexError\u001b[0m: list index out of range",
            "\nDuring handling of the above exception, another exception occurred:\n",
            "\u001b[0;31mOSError\u001b[0m                                   Traceback (most recent call last)",
            "\u001b[0;32m<ipython-input-19-cfddf1168fd0>\u001b[0m in \u001b[0;36m<module>\u001b[0;34m()\u001b[0m\n\u001b[1;32m      3\u001b[0m \u001b[0mget_ipython\u001b[0m\u001b[0;34m(\u001b[0m\u001b[0;34m)\u001b[0m\u001b[0;34m.\u001b[0m\u001b[0msystem\u001b[0m\u001b[0;34m(\u001b[0m\u001b[0;34m'cp \"/content/Cartoonizer/moet_boogy/nr2_up_speed (7).mp4\" \"/content/Cartoonizer/moet_boogy/nr2_up_speed.mp4\"'\u001b[0m\u001b[0;34m)\u001b[0m\u001b[0;34m\u001b[0m\u001b[0;34m\u001b[0m\u001b[0m\n\u001b[1;32m      4\u001b[0m \u001b[0mclip1\u001b[0m \u001b[0;34m=\u001b[0m \u001b[0mVideoFileClip\u001b[0m\u001b[0;34m(\u001b[0m\u001b[0;34m\"/content/Cartoonizer/moet_boogy/nr1_up_speed.mp4\"\u001b[0m\u001b[0;34m)\u001b[0m\u001b[0;34m\u001b[0m\u001b[0;34m\u001b[0m\u001b[0m\n\u001b[0;32m----> 5\u001b[0;31m \u001b[0mclip2\u001b[0m \u001b[0;34m=\u001b[0m \u001b[0mVideoFileClip\u001b[0m\u001b[0;34m(\u001b[0m\u001b[0;34m\"/content/Cartoonizer/moet_boogy/nr2_up_speed.mp4\"\u001b[0m\u001b[0;34m)\u001b[0m\u001b[0;34m\u001b[0m\u001b[0;34m\u001b[0m\u001b[0m\n\u001b[0m\u001b[1;32m      6\u001b[0m \u001b[0;31m# clip3 = VideoFileClip(\"/content/nrmyvideo3.mp4\")\u001b[0m\u001b[0;34m\u001b[0m\u001b[0;34m\u001b[0m\u001b[0;34m\u001b[0m\u001b[0m\n\u001b[1;32m      7\u001b[0m video = CompositeVideoClip([clip1.set_start(37), # start at t=5s\n",
            "\u001b[0;32m/usr/local/lib/python3.6/dist-packages/moviepy/video/io/VideoFileClip.py\u001b[0m in \u001b[0;36m__init__\u001b[0;34m(self, filename, has_mask, audio, audio_buffersize, target_resolution, resize_algorithm, audio_fps, audio_nbytes, verbose, fps_source)\u001b[0m\n\u001b[1;32m     89\u001b[0m                                          \u001b[0mtarget_resolution\u001b[0m\u001b[0;34m=\u001b[0m\u001b[0mtarget_resolution\u001b[0m\u001b[0;34m,\u001b[0m\u001b[0;34m\u001b[0m\u001b[0;34m\u001b[0m\u001b[0m\n\u001b[1;32m     90\u001b[0m                                          \u001b[0mresize_algo\u001b[0m\u001b[0;34m=\u001b[0m\u001b[0mresize_algorithm\u001b[0m\u001b[0;34m,\u001b[0m\u001b[0;34m\u001b[0m\u001b[0;34m\u001b[0m\u001b[0m\n\u001b[0;32m---> 91\u001b[0;31m                                          fps_source=fps_source)\n\u001b[0m\u001b[1;32m     92\u001b[0m \u001b[0;34m\u001b[0m\u001b[0m\n\u001b[1;32m     93\u001b[0m         \u001b[0;31m# Make some of the reader's attributes accessible from the clip\u001b[0m\u001b[0;34m\u001b[0m\u001b[0;34m\u001b[0m\u001b[0;34m\u001b[0m\u001b[0m\n",
            "\u001b[0;32m/usr/local/lib/python3.6/dist-packages/moviepy/video/io/ffmpeg_reader.py\u001b[0m in \u001b[0;36m__init__\u001b[0;34m(self, filename, print_infos, bufsize, pix_fmt, check_duration, target_resolution, resize_algo, fps_source)\u001b[0m\n\u001b[1;32m     31\u001b[0m         \u001b[0mself\u001b[0m\u001b[0;34m.\u001b[0m\u001b[0mproc\u001b[0m \u001b[0;34m=\u001b[0m \u001b[0;32mNone\u001b[0m\u001b[0;34m\u001b[0m\u001b[0;34m\u001b[0m\u001b[0m\n\u001b[1;32m     32\u001b[0m         infos = ffmpeg_parse_infos(filename, print_infos, check_duration,\n\u001b[0;32m---> 33\u001b[0;31m                                    fps_source)\n\u001b[0m\u001b[1;32m     34\u001b[0m         \u001b[0mself\u001b[0m\u001b[0;34m.\u001b[0m\u001b[0mfps\u001b[0m \u001b[0;34m=\u001b[0m \u001b[0minfos\u001b[0m\u001b[0;34m[\u001b[0m\u001b[0;34m'video_fps'\u001b[0m\u001b[0;34m]\u001b[0m\u001b[0;34m\u001b[0m\u001b[0;34m\u001b[0m\u001b[0m\n\u001b[1;32m     35\u001b[0m         \u001b[0mself\u001b[0m\u001b[0;34m.\u001b[0m\u001b[0msize\u001b[0m \u001b[0;34m=\u001b[0m \u001b[0minfos\u001b[0m\u001b[0;34m[\u001b[0m\u001b[0;34m'video_size'\u001b[0m\u001b[0;34m]\u001b[0m\u001b[0;34m\u001b[0m\u001b[0;34m\u001b[0m\u001b[0m\n",
            "\u001b[0;32m/usr/local/lib/python3.6/dist-packages/moviepy/video/io/ffmpeg_reader.py\u001b[0m in \u001b[0;36mffmpeg_parse_infos\u001b[0;34m(filename, print_infos, check_duration, fps_source)\u001b[0m\n\u001b[1;32m    289\u001b[0m             raise IOError((\"MoviePy error: failed to read the duration of file %s.\\n\"\n\u001b[1;32m    290\u001b[0m                            \u001b[0;34m\"Here are the file infos returned by ffmpeg:\\n\\n%s\"\u001b[0m\u001b[0;34m)\u001b[0m\u001b[0;34m%\u001b[0m\u001b[0;34m(\u001b[0m\u001b[0;34m\u001b[0m\u001b[0;34m\u001b[0m\u001b[0m\n\u001b[0;32m--> 291\u001b[0;31m                               filename, infos))\n\u001b[0m\u001b[1;32m    292\u001b[0m \u001b[0;34m\u001b[0m\u001b[0m\n\u001b[1;32m    293\u001b[0m     \u001b[0;31m# get the output line that speaks about video\u001b[0m\u001b[0;34m\u001b[0m\u001b[0;34m\u001b[0m\u001b[0;34m\u001b[0m\u001b[0m\n",
            "\u001b[0;31mOSError\u001b[0m: MoviePy error: failed to read the duration of file /content/Cartoonizer/moet_boogy/nr2_up_speed.mp4.\nHere are the file infos returned by ffmpeg:\n\nffmpeg version N-86111-ga441aa90e8-static http://johnvansickle.com/ffmpeg/  Copyright (c) 2000-2017 the FFmpeg developers\n  built with gcc 5.4.1 (Debian 5.4.1-8) 20170304\n  configuration: --enable-gpl --enable-version3 --enable-static --disable-debug --disable-ffplay --disable-indev=sndio --disable-outdev=sndio --cc=gcc-5 --enable-fontconfig --enable-frei0r --enable-gnutls --enable-gray --enable-libass --enable-libfreetype --enable-libfribidi --enable-libmp3lame --enable-libopencore-amrnb --enable-libopencore-amrwb --enable-libopenjpeg --enable-libopus --enable-librtmp --enable-libsoxr --enable-libspeex --enable-libtheora --enable-libvidstab --enable-libvo-amrwbenc --enable-libvorbis --enable-libvpx --enable-libwebp --enable-libx264 --enable-libx265 --enable-libxvid --enable-libzimg\n  libavutil      55. 63.100 / 55. 63.100\n  libavcodec     57. 96.101 / 57. 96.101\n  libavformat    57. 72.101 / 57. 72.101\n  libavdevice    57.  7.100 / 57.  7.100\n  libavfilter     6. 89.101 /  6. 89.101\n  libswscale      4.  7.101 /  4.  7.101\n  libswresample   2.  8.100 /  2.  8.100\n  libpostproc    54.  6.100 / 54.  6.100\n[mov,mp4,m4a,3gp,3g2,mj2 @ 0x429bda0] Format mov,mp4,m4a,3gp,3g2,mj2 detected only with low score of 1, misdetection possible!\n[mov,mp4,m4a,3gp,3g2,mj2 @ 0x429bda0] moov atom not found\n/content/Cartoonizer/moet_boogy/nr2_up_speed.mp4: Invalid data found when processing input\n"
          ]
        }
      ]
    },
    {
      "cell_type": "markdown",
      "metadata": {
        "id": "OlnImHl5lcWo",
        "colab_type": "text"
      },
      "source": [
        "### Set Dimensions"
      ]
    },
    {
      "cell_type": "code",
      "metadata": {
        "id": "QS3XPGESdkQi",
        "colab_type": "code",
        "colab": {}
      },
      "source": [
        "# generate the movie sequence\n",
        "searchedfiles = glob.glob(frames_dir+'/*.jpg')\n",
        "files = sorted( searchedfiles, key = lambda file: os.path.getctime(file))\n",
        "\n",
        "files_sorted=[]\n",
        "combined_sorted=[]\n",
        "# fill the frame list before the processed image even beeing there\n",
        "for i in files:\n",
        "  # split off the filename\n",
        "  isa = i.split('/')\n",
        "  # append it with the processed folder path and file definition\n",
        "  # set filename\n",
        "  com_frame_filename =\"file '\"+proc_frames_dir+\"/comparison/\"+isa[len(isa)-1]+\"'\\n\"\n",
        "   #set filename\n",
        "  frame_filename =\"file '\"+proc_frames_dir+\"/\"+styles+\"/\"+isa[len(isa)-1]+\"'\\n\"\n",
        "  # append to the lists\n",
        "  combined_sorted.append(com_frame_filename)\n",
        "  files_sorted.append(frame_filename)\n",
        "  \n",
        "# Write the frame lists for both vids \n",
        "with open(video_root+'/paths.txt', 'w') as in_files:\n",
        "  in_files.writelines(fn for fn in files_sorted)\n",
        "with open(video_root+'/compare_paths.txt', 'w') as in_files:\n",
        "  in_files.writelines(fn for fn in combined_sorted)\n",
        "\n",
        "# for file in files check height\n",
        "for f in files:\n",
        "  img = cv2.imread(f)\n",
        "  h,w,c = img.shape\n",
        "  # Resize if needed\n",
        "  if h > max_size:\n",
        "    img_resized = resize(img,window_height = max_size)\n",
        "    rh,rw,rc = img_resized.shape\n",
        "    cv2.imwrite(f,img_resized)"
      ],
      "execution_count": 0,
      "outputs": []
    },
    {
      "cell_type": "markdown",
      "metadata": {
        "id": "QJddYD7Rhj7G",
        "colab_type": "text"
      },
      "source": [
        "# Rip the video and audio"
      ]
    },
    {
      "cell_type": "markdown",
      "metadata": {
        "id": "B_LvjYMgAV17",
        "colab_type": "text"
      },
      "source": [
        "moviepy.vfx.fx.['__builtins__', '__cached__', '__doc__', '__file__', '__loader__', '__name__', '__package__', '__path__', '__spec__', 'accel_decel', 'all', 'blackwhite', 'blink', 'colorx', 'crop', 'even_size', 'fadein', 'fadeout', 'freeze', 'freeze_region', 'gamma_corr', 'headblur', 'invert_colors', 'loop', 'lum_contrast', 'make_loopable', 'margin', 'mask_and', 'mask_color', 'mask_or', 'mirror_x', 'mirror_y', 'painting', 'resize', 'rotate', 'scroll', 'speedx', 'supersample', 'time_mirror', 'time_symmetrize']\n",
        "\n",
        "moviepy.vfx. ['__all__', '__builtins__', '__cached__', '__doc__', '__file__', '__loader__', '__name__', '__package__', '__path__', '__spec__', 'accel_decel', 'blackwhite', 'blink', 'colorx', 'crop', 'even_size', 'fadein', 'fadeout', 'freeze', 'freeze_region', 'fx', 'gamma_corr', 'headblur', 'invert_colors', 'loop', 'lum_contrast', 'make_loopable', 'margin', 'mask_and', 'mask_color', 'mask_or', 'mirror_x', 'mirror_y', 'name', 'painting', 'pkgutil', 'resize', 'rotate', 'scroll', 'speedx', 'supersample', 'time_mirror', 'time_symmetrize']\n",
        "-"
      ]
    },
    {
      "cell_type": "code",
      "metadata": {
        "id": "oUSMAwetkOxt",
        "colab_type": "code",
        "colab": {}
      },
      "source": [
        "def RipVideo(Y=False,filename=None):\n",
        "  if Y == True and filename == None:\n",
        "    # get the mp4\n",
        "    print('Ripping video : '+ vid )\n",
        "    !youtube-dl {vid} --output '{video_file}' --format mp4\n",
        "    prep_parts(video_file)\n",
        "\n",
        "def prep_parts(video_file):    \n",
        "  # split of the mp3\n",
        "  clip = VideoFileClip(video_file)\n",
        "  print('Ripping audio...' + audio_file)\n",
        "  clip.audio.write_audiofile(audio_file)\n",
        "  \n",
        "  #capture the video frames\n",
        "  vidcap = cv2.VideoCapture(video_file)\n",
        "\n",
        "  # count total frames\n",
        "  vidc = imageio.get_reader(video_file,  'ffmpeg')\n",
        "  num_frames=vidc._meta['nframes']\n",
        "\n",
        "  # frame grab function\n",
        "  def getFrame(sec):\n",
        "    vidcap.set(cv2.CAP_PROP_POS_MSEC,sec*1000)\n",
        "    hasFrames,image = vidcap.read()\n",
        "    if hasFrames:\n",
        "      cv2.imwrite(frames_dir+\"/image\"+str(count)+\".jpg\", image)     # save frame as JPG file\n",
        "    return hasFrames\n",
        "\n",
        "  sec = 0\n",
        "  FrameRate = framerate\n",
        "  count=1\n",
        "  success = getFrame(sec)\n",
        "  # As long as there are frames\n",
        "  print(\"Splitting in frames...this might take a while...\")\n",
        "  while success:\n",
        "    count = count + 1\n",
        "    frames_left = num_frames -1\n",
        "    # print('frames to go ' + str(frames_left))\n",
        "    sec = sec + FrameRate\n",
        "    sec = round(sec, 2)\n",
        "    success = getFrame(sec)\n",
        "  clear_output()"
      ],
      "execution_count": 0,
      "outputs": []
    },
    {
      "cell_type": "markdown",
      "metadata": {
        "id": "MLQdxqp2mCxQ",
        "colab_type": "text"
      },
      "source": [
        "# Run the Swapper"
      ]
    },
    {
      "cell_type": "code",
      "metadata": {
        "id": "lHJ1yZK3pnmv",
        "colab_type": "code",
        "outputId": "7b3c3a1f-a893-41a8-89e0-871bed55b8a9",
        "colab": {
          "base_uri": "https://localhost:8080/",
          "height": 1000
        }
      },
      "source": [
        "\n",
        "def RipNMix(nr1,nr2):\n",
        "  # set Urls\n",
        "  print('ripping swap targets') \n",
        "  # rip\n",
        "  !youtube-dl \"{nr1}\" --output '/content/Cartoonizer/moet_dancers/nr1_rip.mp4' --format mp4\n",
        "  !youtube-dl \"{nr2}\" --output '/content/Cartoonizer/moet_dancers/nr2_rip.mp4' --format mp4\n",
        "\n",
        "  target=\"/content/Cartoonizer/moet_dancers/nr1_rip.mp4\"\n",
        "  trim_result=\"/content/Cartoonizer/moet_dancers/nr1_trimmed_rip.mp4\"\n",
        "  Trim_video(target,trim_result,0,500)\n",
        "\n",
        "  !ffmpeg -stream_loop -1 -i \"/content/Cartoonizer/moet_dancers/nr2_up_speed.mp4\" -i '/content/Cartoonizer/moet_dancers/nr1_up_speed.mp3' -shortest \"/content/Cartoonizer/moet_dancers/final_mixed_video.mp4\"\n",
        "  # modifiedClip2 = clip1.fl_image( invert_green_blue )\n",
        "  !ffmpeg -y -stream_loop -1 -i \"/content/Cartoonizer/moet_dancers/nr2_up_speed.mp4\" -i '/content/Cartoonizer/moet_dancers/nr1_up_speed.mp3' -fflags +shortest -max_interleave_delta 50000 -c copy \"/content/Cartoonizer/moet_dancers/final_mixed_video.mp4\"\n",
        "  # final_clip = clips_array([[clip_nr_1],[clip_nr_2]])\n",
        "  # fin\n",
        "\n",
        "  # speed the videos up\n",
        "  !ffmpeg -y -i '/content/Cartoonizer/moet_dancers/nr1_trimmed_rip.mp4' -filter_complex \"[0:v]setpts=1.1*PTS[v];[0:a]atempo=1.10[a]\" -map \"[v]\" -map \"[a]\" '/content/Cartoonizer/moet_dancers/nr1_up_speed.mp4'\n",
        "  # split the mp3\n",
        "  # clip_nr_1 = VideoFileClip('/content/Cartoonizer/moet_dancers/nr1_up_speed.mp4')\n",
        "  # clip_nr_1.audio.write_audiofile('/content/Cartoonizer/moet_dancers/nr1_up_speed.mp3').xvolume(1.5)\n",
        "  !ffmpeg -y -stream_loop -1 -i \"/content/Cartoonizer/moet_dancers/nr2_up_speed.mp4\" -i '/content/Cartoonizer/moet_dancers/nr1_up_speed.mp3' -fflags +shortest -max_interleave_delta 50000 -c copy \"/content/Cartoonizer/moet_dancers/final_mixed_video.mp4\"\n",
        "  !ffmpeg -y -i '/content/Cartoonizer/moet_dancers/nr2_rip.mp4' -filter_complex \"[0:v]setpts=0.6*PTS[v];[0:a]atempo=1.2[a]\" -map \"[v]\" -map \"[a]\" '/content/Cartoonizer/moet_dancers/nr2_up_speed.mp4'\n",
        "\n",
        "  # Sync the vids\n",
        "  !ffmpeg -y -stream_loop -1 -i \"/content/Cartoonizer/moet_dancers/nr2_up_speed.mp4\" -i '/content/Cartoonizer/moet_dancers/nr1_up_speed.mp3' -fflags +shortest -max_interleave_delta 50000 -c copy '{video_root}'\"/final_mixed_video.mp4\"  \n",
        "\n",
        "def Trim_video(t,tr,start=0,stop=100):\n",
        "  from moviepy.video.io.ffmpeg_tools import ffmpeg_extract_subclip\n",
        "  # cut clip if neeed\n",
        "  ffmpeg_extract_subclip(t, start, stop, targetname=tr)  \n",
        "  \n",
        "def StitchClips(resize_val=400,vol=1.5):    \n",
        "  import moviepy\n",
        "  import moviepy.editor as mp\n",
        "  from moviepy.editor import VideoFileClip, AudioFileClip,concatenate_videoclips,clips_array, vfx\n",
        "\n",
        "  from moviepy.video.fx import crop\n",
        "  # split of the mp3\n",
        " \n",
        "  clip = VideoFileClip('/content/Cartoonizer/moet_dancers/nr1_up_speed.mp4')\n",
        "  print('Ripping audio...' + audio_file)\n",
        "  clip.audio.write_audiofile(audio_file)\n",
        "  audio = mp.AudioFileClip(audio_file)\n",
        "  audio.volumex(vol)\n",
        "  print(audio_file)\n",
        "  print( audio.duration )\n",
        "  video = clip.set_audio(audio).resize(width=resize_val)\n",
        "  print( video.duration )\n",
        "  video.write_videofile(out)\n",
        "  \n",
        "  \n",
        "# music files\n",
        "# https://www.youtube.com/watch?v=FPGcshIR6TA\n",
        "# https://www.youtube.com/watch?v=BEfeZ5lQneA\n",
        "nice1='https://www.youtube.com/watch?v=wEe5169L1UI'\n",
        "nice2='https://www.youtube.com/watch?v=OLeTAOSgbz0'\n",
        "nice3='https://www.youtube.com/watch?v=rjKQUR-6G6o'\n",
        "drum='https://www.youtube.com/watch?v=AxqCeKeyKUk'\n",
        "numb1='https://www.youtube.com/watch?v=Ol7yPawhzM0'\n",
        "numb2='https://www.youtube.com/watch?v=VA11vaxAvBQ'\n",
        "number1='https://www.youtube.com/watch?v=PKkqD4HPimI'\n",
        "number1a='https://www.youtube.com/watch?v=-GxofRLnB7o'\n",
        "number1b='https://www.youtube.com/watch?v=-nvOc02hvj'\n",
        "number2='https://www.youtube.com/watch?v=prsZcOdgCu8'\n",
        "number2a='https://www.youtube.com/watch?v=xeP2j2F_jFc'\n",
        "number2b='https://www.youtube.com/watch?v=Ol7yPawhzM0'\n",
        "number_mojo='https://www.youtube.com/watch?v=iFsA0C2WRJw'\n",
        "number1b='https://www.youtube.com/watch?v=-nvOc02hvjA'\n",
        "# dance i say'\n",
        "number3='https://www.youtube.com/watch?v=D0S56AS1JPo'\n",
        "number3a='https://www.youtube.com/watch?v=qvrMhdQE6zM'\n",
        "number3b='https://www.youtube.com/watch?v=rYeG8NvRzW8'\n",
        "number3c='https://www.youtube.com/watch?v=YAYkbxQp0m8'\n",
        "\n",
        "\n",
        "\n",
        "def VideoLas(url1,url2,las_out=\"/content/Cartoonizer/moet_dancers/concat_output.mp4\"):\n",
        "  from moviepy.editor import VideoFileClip, concatenate_videoclips\n",
        "#   clip1 = VideoFileClip(url1)\n",
        "#   clip2 = VideoFileClip(url2)\n",
        "#   # clip3 = VideoFileClip( root + video_name \" + \".mp4\")\n",
        "#   cliparray = concatenate_videoclips(clip1,clip2)\n",
        "# #   cliparray = clips_array([[clip1, clip2]])\n",
        "#   final_clip.write_videofile(las_out)\n",
        "\n",
        "#   # swap out file\n",
        "\n",
        "  concat_file=\"/content/Cartoonizer/moet_dancers/concat_output.mp4\"\n",
        "#   from moviepy.editor import VideoFileClip, concatenate_videoclips\n",
        "#   import os.path\n",
        "\n",
        "#   path = \"/content/Cartoonizer/moet_dancers/\"\n",
        "#   cliparray = []\n",
        "#   for filename in [url1,url1]:\n",
        "#       cliparray.append(VideoFileClip(path + filename))\n",
        "#   final_clip = concatenate_videoclips(cliparray,method='compose')\n",
        "#   final_clip.write_videofile(path+ 'concatted_' + filename, codec = \"libx264\")\n",
        "\n",
        "\n",
        "# VideoLas(nice,nice1)\n",
        "    \n",
        "\n",
        "RipNMix(number1,number3c)\n",
        "StitchClips()\n",
        "# prep_parts(False, out)\n",
        "\n",
        "# clear_output()\n"
      ],
      "execution_count": 37,
      "outputs": [
        {
          "output_type": "stream",
          "text": [
            "ripping swap targets\n",
            "[youtube] PKkqD4HPimI: Downloading webpage\n",
            "[youtube] PKkqD4HPimI: Downloading video info webpage\n",
            "[download] /content/Cartoonizer/moet_dancers/nr1_rip.mp4 has already been downloaded\n",
            "\u001b[K[download] 100% of 52.19MiB\n",
            "[youtube] YAYkbxQp0m8: Downloading webpage\n",
            "[youtube] YAYkbxQp0m8: Downloading video info webpage\n",
            "[download] /content/Cartoonizer/moet_dancers/nr2_rip.mp4 has already been downloaded\n",
            "\u001b[K[download] 100% of 82.71MiB\n",
            "\n",
            "[MoviePy] Running:\n",
            ">>> /usr/bin/ffmpeg -y -i /content/Cartoonizer/moet_dancers/nr1_rip.mp4 -ss 0.00 -t 500.00 -vcodec copy -acodec copy /content/Cartoonizer/moet_dancers/nr1_trimmed_rip.mp4\n",
            "... command successful.\n",
            "ffmpeg version 3.4.6-0ubuntu0.18.04.1 Copyright (c) 2000-2019 the FFmpeg developers\n",
            "  built with gcc 7 (Ubuntu 7.3.0-16ubuntu3)\n",
            "  configuration: --prefix=/usr --extra-version=0ubuntu0.18.04.1 --toolchain=hardened --libdir=/usr/lib/x86_64-linux-gnu --incdir=/usr/include/x86_64-linux-gnu --enable-gpl --disable-stripping --enable-avresample --enable-avisynth --enable-gnutls --enable-ladspa --enable-libass --enable-libbluray --enable-libbs2b --enable-libcaca --enable-libcdio --enable-libflite --enable-libfontconfig --enable-libfreetype --enable-libfribidi --enable-libgme --enable-libgsm --enable-libmp3lame --enable-libmysofa --enable-libopenjpeg --enable-libopenmpt --enable-libopus --enable-libpulse --enable-librubberband --enable-librsvg --enable-libshine --enable-libsnappy --enable-libsoxr --enable-libspeex --enable-libssh --enable-libtheora --enable-libtwolame --enable-libvorbis --enable-libvpx --enable-libwavpack --enable-libwebp --enable-libx265 --enable-libxml2 --enable-libxvid --enable-libzmq --enable-libzvbi --enable-omx --enable-openal --enable-opengl --enable-sdl2 --enable-libdc1394 --enable-libdrm --enable-libiec61883 --enable-chromaprint --enable-frei0r --enable-libopencv --enable-libx264 --enable-shared\n",
            "  libavutil      55. 78.100 / 55. 78.100\n",
            "  libavcodec     57.107.100 / 57.107.100\n",
            "  libavformat    57. 83.100 / 57. 83.100\n",
            "  libavdevice    57. 10.100 / 57. 10.100\n",
            "  libavfilter     6.107.100 /  6.107.100\n",
            "  libavresample   3.  7.  0 /  3.  7.  0\n",
            "  libswscale      4.  8.100 /  4.  8.100\n",
            "  libswresample   2.  9.100 /  2.  9.100\n",
            "  libpostproc    54.  7.100 / 54.  7.100\n",
            "Input #0, mov,mp4,m4a,3gp,3g2,mj2, from '/content/Cartoonizer/moet_dancers/nr2_up_speed.mp4':\n",
            "  Metadata:\n",
            "    major_brand     : isom\n",
            "    minor_version   : 512\n",
            "    compatible_brands: isomiso2avc1mp41\n",
            "    encoder         : Lavf57.83.100\n",
            "  Duration: 00:06:40.82, start: 0.000000, bitrate: 1489 kb/s\n",
            "    Stream #0:0(und): Video: h264 (High) (avc1 / 0x31637661), yuv420p, 1280x720 [SAR 1:1 DAR 16:9], 1884 kb/s, 30 fps, 30 tbr, 15360 tbn, 60 tbc (default)\n",
            "    Metadata:\n",
            "      handler_name    : VideoHandler\n",
            "    Stream #0:1(und): Audio: aac (LC) (mp4a / 0x6134706D), 44100 Hz, stereo, fltp, 128 kb/s (default)\n",
            "    Metadata:\n",
            "      handler_name    : SoundHandler\n",
            "Input #1, mp3, from '/content/Cartoonizer/moet_dancers/nr1_up_speed.mp3':\n",
            "  Metadata:\n",
            "    encoder         : Lavf57.83.100\n",
            "  Duration: 00:03:15.60, start: 0.025057, bitrate: 128 kb/s\n",
            "    Stream #1:0: Audio: mp3, 44100 Hz, stereo, s16p, 128 kb/s\n",
            "    Metadata:\n",
            "      encoder         : Lavc57.10\n",
            "File '/content/Cartoonizer/moet_dancers/final_mixed_video.mp4' already exists. Overwrite ? [y/N] "
          ],
          "name": "stdout"
        },
        {
          "output_type": "error",
          "ename": "KeyboardInterrupt",
          "evalue": "ignored",
          "traceback": [
            "\u001b[0;31m---------------------------------------------------------------------------\u001b[0m",
            "\u001b[0;31mKeyboardInterrupt\u001b[0m                         Traceback (most recent call last)",
            "\u001b[0;32m<ipython-input-37-b8e79ac5b4d5>\u001b[0m in \u001b[0;36m<module>\u001b[0;34m()\u001b[0m\n\u001b[1;32m    104\u001b[0m \u001b[0;34m\u001b[0m\u001b[0m\n\u001b[1;32m    105\u001b[0m \u001b[0;34m\u001b[0m\u001b[0m\n\u001b[0;32m--> 106\u001b[0;31m \u001b[0mRipNMix\u001b[0m\u001b[0;34m(\u001b[0m\u001b[0mnumber1\u001b[0m\u001b[0;34m,\u001b[0m\u001b[0mnumber3c\u001b[0m\u001b[0;34m)\u001b[0m\u001b[0;34m\u001b[0m\u001b[0;34m\u001b[0m\u001b[0m\n\u001b[0m\u001b[1;32m    107\u001b[0m \u001b[0mStitchClips\u001b[0m\u001b[0;34m(\u001b[0m\u001b[0;34m)\u001b[0m\u001b[0;34m\u001b[0m\u001b[0;34m\u001b[0m\u001b[0m\n\u001b[1;32m    108\u001b[0m \u001b[0;31m# prep_parts(False, out)\u001b[0m\u001b[0;34m\u001b[0m\u001b[0;34m\u001b[0m\u001b[0;34m\u001b[0m\u001b[0m\n",
            "\u001b[0;32m<ipython-input-37-b8e79ac5b4d5>\u001b[0m in \u001b[0;36mRipNMix\u001b[0;34m(nr1, nr2)\u001b[0m\n\u001b[1;32m     11\u001b[0m   \u001b[0mTrim_video\u001b[0m\u001b[0;34m(\u001b[0m\u001b[0mtarget\u001b[0m\u001b[0;34m,\u001b[0m\u001b[0mtrim_result\u001b[0m\u001b[0;34m,\u001b[0m\u001b[0;36m0\u001b[0m\u001b[0;34m,\u001b[0m\u001b[0;36m500\u001b[0m\u001b[0;34m)\u001b[0m\u001b[0;34m\u001b[0m\u001b[0;34m\u001b[0m\u001b[0m\n\u001b[1;32m     12\u001b[0m \u001b[0;34m\u001b[0m\u001b[0m\n\u001b[0;32m---> 13\u001b[0;31m   \u001b[0mget_ipython\u001b[0m\u001b[0;34m(\u001b[0m\u001b[0;34m)\u001b[0m\u001b[0;34m.\u001b[0m\u001b[0msystem\u001b[0m\u001b[0;34m(\u001b[0m\u001b[0;34m'ffmpeg -stream_loop -1 -i \"/content/Cartoonizer/moet_dancers/nr2_up_speed.mp4\" -i \\'/content/Cartoonizer/moet_dancers/nr1_up_speed.mp3\\' -shortest \"/content/Cartoonizer/moet_dancers/final_mixed_video.mp4\"'\u001b[0m\u001b[0;34m)\u001b[0m\u001b[0;34m\u001b[0m\u001b[0;34m\u001b[0m\u001b[0m\n\u001b[0m\u001b[1;32m     14\u001b[0m   \u001b[0;31m# modifiedClip2 = clip1.fl_image( invert_green_blue )\u001b[0m\u001b[0;34m\u001b[0m\u001b[0;34m\u001b[0m\u001b[0;34m\u001b[0m\u001b[0m\n\u001b[1;32m     15\u001b[0m   \u001b[0mget_ipython\u001b[0m\u001b[0;34m(\u001b[0m\u001b[0;34m)\u001b[0m\u001b[0;34m.\u001b[0m\u001b[0msystem\u001b[0m\u001b[0;34m(\u001b[0m\u001b[0;34m'ffmpeg -y -stream_loop -1 -i \"/content/Cartoonizer/moet_dancers/nr2_up_speed.mp4\" -i \\'/content/Cartoonizer/moet_dancers/nr1_up_speed.mp3\\' -fflags +shortest -max_interleave_delta 50000 -c copy \"/content/Cartoonizer/moet_dancers/final_mixed_video.mp4\"'\u001b[0m\u001b[0;34m)\u001b[0m\u001b[0;34m\u001b[0m\u001b[0;34m\u001b[0m\u001b[0m\n",
            "\u001b[0;32m/usr/local/lib/python3.6/dist-packages/google/colab/_shell.py\u001b[0m in \u001b[0;36msystem\u001b[0;34m(self, *args, **kwargs)\u001b[0m\n\u001b[1;32m     82\u001b[0m       \u001b[0mkwargs\u001b[0m\u001b[0;34m.\u001b[0m\u001b[0mupdate\u001b[0m\u001b[0;34m(\u001b[0m\u001b[0;34m{\u001b[0m\u001b[0;34m'also_return_output'\u001b[0m\u001b[0;34m:\u001b[0m \u001b[0;32mTrue\u001b[0m\u001b[0;34m}\u001b[0m\u001b[0;34m)\u001b[0m\u001b[0;34m\u001b[0m\u001b[0;34m\u001b[0m\u001b[0m\n\u001b[1;32m     83\u001b[0m \u001b[0;34m\u001b[0m\u001b[0m\n\u001b[0;32m---> 84\u001b[0;31m     \u001b[0moutput\u001b[0m \u001b[0;34m=\u001b[0m \u001b[0m_system_commands\u001b[0m\u001b[0;34m.\u001b[0m\u001b[0m_system_compat\u001b[0m\u001b[0;34m(\u001b[0m\u001b[0mself\u001b[0m\u001b[0;34m,\u001b[0m \u001b[0;34m*\u001b[0m\u001b[0margs\u001b[0m\u001b[0;34m,\u001b[0m \u001b[0;34m**\u001b[0m\u001b[0mkwargs\u001b[0m\u001b[0;34m)\u001b[0m  \u001b[0;31m# pylint:disable=protected-access\u001b[0m\u001b[0;34m\u001b[0m\u001b[0;34m\u001b[0m\u001b[0m\n\u001b[0m\u001b[1;32m     85\u001b[0m \u001b[0;34m\u001b[0m\u001b[0m\n\u001b[1;32m     86\u001b[0m     \u001b[0;32mif\u001b[0m \u001b[0mpip_warn\u001b[0m\u001b[0;34m:\u001b[0m\u001b[0;34m\u001b[0m\u001b[0;34m\u001b[0m\u001b[0m\n",
            "\u001b[0;32m/usr/local/lib/python3.6/dist-packages/google/colab/_system_commands.py\u001b[0m in \u001b[0;36m_system_compat\u001b[0;34m(shell, cmd, also_return_output)\u001b[0m\n\u001b[1;32m    436\u001b[0m   \u001b[0;31m# stack.\u001b[0m\u001b[0;34m\u001b[0m\u001b[0;34m\u001b[0m\u001b[0;34m\u001b[0m\u001b[0m\n\u001b[1;32m    437\u001b[0m   result = _run_command(\n\u001b[0;32m--> 438\u001b[0;31m       shell.var_expand(cmd, depth=2), clear_streamed_output=False)\n\u001b[0m\u001b[1;32m    439\u001b[0m   \u001b[0mshell\u001b[0m\u001b[0;34m.\u001b[0m\u001b[0muser_ns\u001b[0m\u001b[0;34m[\u001b[0m\u001b[0;34m'_exit_code'\u001b[0m\u001b[0;34m]\u001b[0m \u001b[0;34m=\u001b[0m \u001b[0mresult\u001b[0m\u001b[0;34m.\u001b[0m\u001b[0mreturncode\u001b[0m\u001b[0;34m\u001b[0m\u001b[0;34m\u001b[0m\u001b[0m\n\u001b[1;32m    440\u001b[0m   \u001b[0;32mif\u001b[0m \u001b[0;34m-\u001b[0m\u001b[0mresult\u001b[0m\u001b[0;34m.\u001b[0m\u001b[0mreturncode\u001b[0m \u001b[0;32min\u001b[0m \u001b[0m_INTERRUPTED_SIGNALS\u001b[0m\u001b[0;34m:\u001b[0m\u001b[0;34m\u001b[0m\u001b[0;34m\u001b[0m\u001b[0m\n",
            "\u001b[0;32m/usr/local/lib/python3.6/dist-packages/google/colab/_system_commands.py\u001b[0m in \u001b[0;36m_run_command\u001b[0;34m(cmd, clear_streamed_output)\u001b[0m\n\u001b[1;32m    193\u001b[0m       \u001b[0mos\u001b[0m\u001b[0;34m.\u001b[0m\u001b[0mclose\u001b[0m\u001b[0;34m(\u001b[0m\u001b[0mchild_pty\u001b[0m\u001b[0;34m)\u001b[0m\u001b[0;34m\u001b[0m\u001b[0;34m\u001b[0m\u001b[0m\n\u001b[1;32m    194\u001b[0m \u001b[0;34m\u001b[0m\u001b[0m\n\u001b[0;32m--> 195\u001b[0;31m       \u001b[0;32mreturn\u001b[0m \u001b[0m_monitor_process\u001b[0m\u001b[0;34m(\u001b[0m\u001b[0mparent_pty\u001b[0m\u001b[0;34m,\u001b[0m \u001b[0mepoll\u001b[0m\u001b[0;34m,\u001b[0m \u001b[0mp\u001b[0m\u001b[0;34m,\u001b[0m \u001b[0mcmd\u001b[0m\u001b[0;34m,\u001b[0m \u001b[0mupdate_stdin_widget\u001b[0m\u001b[0;34m)\u001b[0m\u001b[0;34m\u001b[0m\u001b[0;34m\u001b[0m\u001b[0m\n\u001b[0m\u001b[1;32m    196\u001b[0m   \u001b[0;32mfinally\u001b[0m\u001b[0;34m:\u001b[0m\u001b[0;34m\u001b[0m\u001b[0;34m\u001b[0m\u001b[0m\n\u001b[1;32m    197\u001b[0m     \u001b[0mepoll\u001b[0m\u001b[0;34m.\u001b[0m\u001b[0mclose\u001b[0m\u001b[0;34m(\u001b[0m\u001b[0;34m)\u001b[0m\u001b[0;34m\u001b[0m\u001b[0;34m\u001b[0m\u001b[0m\n",
            "\u001b[0;32m/usr/lib/python3.6/contextlib.py\u001b[0m in \u001b[0;36m__exit__\u001b[0;34m(self, type, value, traceback)\u001b[0m\n\u001b[1;32m     86\u001b[0m         \u001b[0;32mif\u001b[0m \u001b[0mtype\u001b[0m \u001b[0;32mis\u001b[0m \u001b[0;32mNone\u001b[0m\u001b[0;34m:\u001b[0m\u001b[0;34m\u001b[0m\u001b[0;34m\u001b[0m\u001b[0m\n\u001b[1;32m     87\u001b[0m             \u001b[0;32mtry\u001b[0m\u001b[0;34m:\u001b[0m\u001b[0;34m\u001b[0m\u001b[0;34m\u001b[0m\u001b[0m\n\u001b[0;32m---> 88\u001b[0;31m                 \u001b[0mnext\u001b[0m\u001b[0;34m(\u001b[0m\u001b[0mself\u001b[0m\u001b[0;34m.\u001b[0m\u001b[0mgen\u001b[0m\u001b[0;34m)\u001b[0m\u001b[0;34m\u001b[0m\u001b[0;34m\u001b[0m\u001b[0m\n\u001b[0m\u001b[1;32m     89\u001b[0m             \u001b[0;32mexcept\u001b[0m \u001b[0mStopIteration\u001b[0m\u001b[0;34m:\u001b[0m\u001b[0;34m\u001b[0m\u001b[0;34m\u001b[0m\u001b[0m\n\u001b[1;32m     90\u001b[0m                 \u001b[0;32mreturn\u001b[0m \u001b[0;32mFalse\u001b[0m\u001b[0;34m\u001b[0m\u001b[0;34m\u001b[0m\u001b[0m\n",
            "\u001b[0;32m/usr/local/lib/python3.6/dist-packages/google/colab/_system_commands.py\u001b[0m in \u001b[0;36m_display_stdin_widget\u001b[0;34m(delay_millis)\u001b[0m\n\u001b[1;32m    353\u001b[0m \u001b[0;34m\u001b[0m\u001b[0m\n\u001b[1;32m    354\u001b[0m   \u001b[0mhide_args\u001b[0m \u001b[0;34m=\u001b[0m \u001b[0;34m[\u001b[0m\u001b[0;34m'cell_remove_stdin'\u001b[0m\u001b[0;34m,\u001b[0m \u001b[0;34m{\u001b[0m\u001b[0;34m}\u001b[0m\u001b[0;34m]\u001b[0m\u001b[0;34m\u001b[0m\u001b[0;34m\u001b[0m\u001b[0m\n\u001b[0;32m--> 355\u001b[0;31m   \u001b[0m_message\u001b[0m\u001b[0;34m.\u001b[0m\u001b[0mblocking_request\u001b[0m\u001b[0;34m(\u001b[0m\u001b[0;34m*\u001b[0m\u001b[0mhide_args\u001b[0m\u001b[0;34m,\u001b[0m \u001b[0mparent\u001b[0m\u001b[0;34m=\u001b[0m\u001b[0mshell\u001b[0m\u001b[0;34m.\u001b[0m\u001b[0mparent_header\u001b[0m\u001b[0;34m)\u001b[0m\u001b[0;34m\u001b[0m\u001b[0;34m\u001b[0m\u001b[0m\n\u001b[0m\u001b[1;32m    356\u001b[0m \u001b[0;34m\u001b[0m\u001b[0m\n\u001b[1;32m    357\u001b[0m \u001b[0;34m\u001b[0m\u001b[0m\n",
            "\u001b[0;32m/usr/local/lib/python3.6/dist-packages/google/colab/_message.py\u001b[0m in \u001b[0;36mblocking_request\u001b[0;34m(request_type, request, timeout_sec, parent)\u001b[0m\n\u001b[1;32m    169\u001b[0m   \u001b[0;31m# unique.\u001b[0m\u001b[0;34m\u001b[0m\u001b[0;34m\u001b[0m\u001b[0;34m\u001b[0m\u001b[0m\n\u001b[1;32m    170\u001b[0m   \u001b[0mrequest_id\u001b[0m \u001b[0;34m=\u001b[0m \u001b[0msend_request\u001b[0m\u001b[0;34m(\u001b[0m\u001b[0mrequest_type\u001b[0m\u001b[0;34m,\u001b[0m \u001b[0mrequest\u001b[0m\u001b[0;34m,\u001b[0m \u001b[0mparent\u001b[0m\u001b[0;34m=\u001b[0m\u001b[0mparent\u001b[0m\u001b[0;34m)\u001b[0m\u001b[0;34m\u001b[0m\u001b[0;34m\u001b[0m\u001b[0m\n\u001b[0;32m--> 171\u001b[0;31m   \u001b[0;32mreturn\u001b[0m \u001b[0mread_reply_from_input\u001b[0m\u001b[0;34m(\u001b[0m\u001b[0mrequest_id\u001b[0m\u001b[0;34m,\u001b[0m \u001b[0mtimeout_sec\u001b[0m\u001b[0;34m)\u001b[0m\u001b[0;34m\u001b[0m\u001b[0;34m\u001b[0m\u001b[0m\n\u001b[0m",
            "\u001b[0;32m/usr/local/lib/python3.6/dist-packages/google/colab/_message.py\u001b[0m in \u001b[0;36mread_reply_from_input\u001b[0;34m(message_id, timeout_sec)\u001b[0m\n\u001b[1;32m     99\u001b[0m     \u001b[0mreply\u001b[0m \u001b[0;34m=\u001b[0m \u001b[0m_read_next_input_message\u001b[0m\u001b[0;34m(\u001b[0m\u001b[0;34m)\u001b[0m\u001b[0;34m\u001b[0m\u001b[0;34m\u001b[0m\u001b[0m\n\u001b[1;32m    100\u001b[0m     \u001b[0;32mif\u001b[0m \u001b[0mreply\u001b[0m \u001b[0;34m==\u001b[0m \u001b[0m_NOT_READY\u001b[0m \u001b[0;32mor\u001b[0m \u001b[0;32mnot\u001b[0m \u001b[0misinstance\u001b[0m\u001b[0;34m(\u001b[0m\u001b[0mreply\u001b[0m\u001b[0;34m,\u001b[0m \u001b[0mdict\u001b[0m\u001b[0;34m)\u001b[0m\u001b[0;34m:\u001b[0m\u001b[0;34m\u001b[0m\u001b[0;34m\u001b[0m\u001b[0m\n\u001b[0;32m--> 101\u001b[0;31m       \u001b[0mtime\u001b[0m\u001b[0;34m.\u001b[0m\u001b[0msleep\u001b[0m\u001b[0;34m(\u001b[0m\u001b[0;36m0.025\u001b[0m\u001b[0;34m)\u001b[0m\u001b[0;34m\u001b[0m\u001b[0;34m\u001b[0m\u001b[0m\n\u001b[0m\u001b[1;32m    102\u001b[0m       \u001b[0;32mcontinue\u001b[0m\u001b[0;34m\u001b[0m\u001b[0;34m\u001b[0m\u001b[0m\n\u001b[1;32m    103\u001b[0m     if (reply.get('type') == 'colab_reply' and\n",
            "\u001b[0;31mKeyboardInterrupt\u001b[0m: "
          ]
        }
      ]
    },
    {
      "cell_type": "markdown",
      "metadata": {
        "id": "LTKx-CWO4evO",
        "colab_type": "text"
      },
      "source": [
        "# Run the Cartoonizer"
      ]
    },
    {
      "cell_type": "markdown",
      "metadata": {
        "id": "X4-48Kll4X6l",
        "colab_type": "text"
      },
      "source": [
        "## Forming the new video "
      ]
    },
    {
      "cell_type": "code",
      "metadata": {
        "id": "f92qp_2idsV2",
        "colab_type": "code",
        "colab": {}
      },
      "source": [
        "# run the Cartoonizer\n",
        "os.system(\"python \"+root+\"/CartoonGan-tensorflow/cartoonize.py \\\n",
        "  --comparison_view horizontal \\\n",
        "  --keep_original_size \\\n",
        "  --batch_size 8 \\\n",
        "  --styles \"+styles+\" \\\n",
        "  --input_dir '\"+frames_dir+\"' \\\n",
        "  --output_dir '\"+proc_frames_dir +\"'\")\n"
      ],
      "execution_count": 0,
      "outputs": []
    },
    {
      "cell_type": "markdown",
      "metadata": {
        "id": "VMkju234uAYY",
        "colab_type": "text"
      },
      "source": [
        "Swap audio of 2 videos and speed up"
      ]
    },
    {
      "cell_type": "code",
      "metadata": {
        "id": "XK_X9KDAmJzz",
        "colab_type": "code",
        "colab": {}
      },
      "source": [
        " \n",
        "!ffmpeg -y -r 1/{framerate} -f concat -safe 0 -i  '{video_root}'\"/paths.txt\" -c:v libx264 -vf \"fps=1/\"{framerate}\",format=yuv420p\" '{video_root}'\"/processed_video.mp4\"\n",
        "!ffmpeg -i '{video_root}'\"/processed_video.mp4\" -i '{audio_file}' -shortest '{video_root}'\"/final_processed_video.mp4\"\n",
        "\n",
        "!ffmpeg -y -r 1/{framerate} -f concat -safe 0 -i  '{video_root}'\"/compare_paths.txt\" -c:v libx264 -vf \"fps=1/\"{framerate}\",format=yuv420p\" '{video_root}'\"/processed_compare_video.mp4\"\n",
        "!ffmpeg -i '{video_root}'\"/processed_compare_video.mp4\" -i '{audio_file}' -shortest '{video_root}'\"/final_processed_compare_video.mp4\"\n",
        "clear_output()"
      ],
      "execution_count": 0,
      "outputs": []
    },
    {
      "cell_type": "markdown",
      "metadata": {
        "id": "4YJSg5gZFilx",
        "colab_type": "text"
      },
      "source": [
        "# Experimental"
      ]
    },
    {
      "cell_type": "markdown",
      "metadata": {
        "id": "g5GSt4CS1ZYE",
        "colab_type": "text"
      },
      "source": [
        "###speedcontrol off till files \n"
      ]
    },
    {
      "cell_type": "code",
      "metadata": {
        "id": "m6-vXTjpHspX",
        "colab_type": "code",
        "colab": {}
      },
      "source": [
        "# # VIDEO CLIPS\n",
        "# clip = VideoClip(make_frame, duration=4) # for custom animations (see below)\n",
        "# clip = VideoFileClip(\"my_video_file.mp4\") # or .avi, .webm, .gif ...\n",
        "# clip = ImageSequenceClip(['image_file1.jpeg', ...], fps=24)\n",
        "# clip = ImageClip(\"my_picture.png\") # or .jpeg, .tiff, ...\n",
        "# clip = TextClip(\"Hello !\", font=\"Amiri-Bold\", fontsize=70, color=\"black\")\n",
        "# clip = ColorClip(size=(460,380), color=[R,G,B])\n",
        "\n",
        "# # AUDIO CLIPS\n",
        "# clip = AudioFileClip(\"my_audiofile.mp3\") # or .ogg, .wav... or a video !\n",
        "# clip = AudioArrayClip(numpy_array, fps=44100) # from a numerical array\n",
        "# clip = AudioClip(make_frame, duration=3) # uses a function make_frame(t)\n",
        "\n",
        "# import os\n",
        "# os.chdir(str(GitGo('antonxy/audiosync')))\n",
        "# # https://www.youtube.com/watch?v=WSFX61KN8kU&list=RD-GxofRLnB7o&index=3\n",
        "# sys_run('ls -a')\n",
        "# sys_run('cat README.md')\n",
        "# sys_run('echo python console.py dir-with-all-video-files/ dir-with-all-audio-files/ edl-output-dir/ project_frames_per_second')\n",
        "# sys_run('python gui.py')\n",
        "# dir_video_files=''\n",
        "# dir_audio_files=''\n",
        "# edl_output=''\n",
        "# sys_run('python console.py dir_video_files dir_audio_files edl_output project_frames_per_second')"
      ],
      "execution_count": 0,
      "outputs": []
    },
    {
      "cell_type": "markdown",
      "metadata": {
        "id": "eWdQR7b-1k4v",
        "colab_type": "text"
      },
      "source": [
        "#OFF"
      ]
    },
    {
      "cell_type": "code",
      "metadata": {
        "id": "VAyCdTVd1Y1k",
        "colab_type": "code",
        "colab": {}
      },
      "source": [
        "# import cv2\n",
        "# from google.colab.patches import cv2_imshow as imshow\n",
        "# cap = cv2.VideoCapture('/content/Cartoonizer/boogy/final_processed_video.mp4')\n",
        "\n",
        "# while(cap.isOpened()):\n",
        "\n",
        "#     ret, frame = cap.read()\n",
        "#     canny = cv2.Canny(frame, 85, 255)\n",
        "#     height, width = canny.shape\n",
        "\n",
        "#     first_black_array = []\n",
        "\n",
        "#     for x in range(width):\n",
        "#         first_black_pixel_found = 0\n",
        "#         for y in range(height):\n",
        "#             if first_black_pixel_found == 0:\n",
        "#                 if canny[y,x] == 255:\n",
        "#                     first_black_array.append(height - y)\n",
        "#                     first_black_pixel_found = 1\n",
        "#                     cv2.line(frame,(x,y),(x,y),(0,255,0),1)\n",
        "\n",
        "#     imshow(frame)\n",
        "#     if cv2.waitKey(1) & 0xFF == ord('q'):\n",
        "#         break\n",
        "\n",
        "# cap.release()\n",
        "# cv2.destroyAllWindows()\n",
        "\n",
        "# import cv2, numpy as np, time\n",
        "# # Get start time\n",
        "# start = time.time()\n",
        "# # Read in the image\n",
        "# img = cv2.imread('/home/stephen/Desktop/rail.jpg')[40:,10:-10]\n",
        "# # Canny filter\n",
        "# canny = cv2.Canny(img, 85, 255)\n",
        "# # Get height and width\n",
        "# height, width = canny.shape\n",
        "# # Create list to store rail points\n",
        "# railPoints = []\n",
        "# # Iterate though each column in the image\n",
        "# for position in range(width-1):\n",
        "#     # Slice the relevant column from the image\n",
        "#     # The image 'column' is a tall skinny image, only 1px thick\n",
        "#     column = np.array(canny[:,position:position+1])\n",
        "#     # Use numpy to find the first non-zero value\n",
        "#     railPoint = np.argmax(column)\n",
        "#     # Add the railPoint to the list of rail points\n",
        "#     railPoints.append(railPoint)\n",
        "#     # Draw a circle on the image\n",
        "#     cv2.circle(img, (position, railPoint), 1, (123,234,123), 2)\n",
        "# cv2.imshow('img', img)                      \n",
        "# k = cv2.waitKey(1)\n",
        "# cv2.destroyAllWindows()\n",
        "# print(time.time() - start)"
      ],
      "execution_count": 0,
      "outputs": []
    },
    {
      "cell_type": "code",
      "metadata": {
        "id": "Ih70jDblVq5k",
        "colab_type": "code",
        "colab": {}
      },
      "source": [
        "\n",
        "# !rm -r /content/Cartoonizer/CartoonGan-tensorflow/.git\n",
        "# !rm -r /content/Cartoonizer/keras-contrib/.git\n",
        "# # zip the complete project for download\n",
        "# !zip -r /content/Cartoonizer_sources.zip /content\n",
        "# clear_output()"
      ],
      "execution_count": 0,
      "outputs": []
    },
    {
      "cell_type": "code",
      "metadata": {
        "id": "_11ydVYcgrLJ",
        "colab_type": "code",
        "colab": {}
      },
      "source": [
        "# Debug displays all frames.......LAGS LIKE a MOFO!\n",
        "# folders = [f for f in glob.glob(proc_frames_dir + \"**/*\", recursive=True)]\n",
        "# for d in folders:\n",
        "#   !tree '{d}'\n",
        "#   files = [f for f in glob.glob( d + \"**/*.jpg\", recursive=True )]\n",
        "#   for f in files:\n",
        "#       display(Image(f))\n"
      ],
      "execution_count": 0,
      "outputs": []
    },
    {
      "cell_type": "code",
      "metadata": {
        "id": "qJ93vblUf--F",
        "colab_type": "code",
        "colab": {}
      },
      "source": [
        "# # experimental filters and effects after this cel!\n",
        "# import moviepy\n",
        "# from moviepy.editor import VideoFileClip, clips_array, vfx\n",
        "# print(dir( moviepy.editor))\n",
        "# # def invert_green_blue(image):\n",
        "# #     return image[:,:,[0,2,1]]\n",
        "# # def invert_red_green(image):\n",
        "# #     return image[:,[0,2,1],:\n",
        "\n",
        "# clip1 = VideoFileClip('/content/Cartoonizer/final_processed_compare_'+ video_name + \"_vid.mp4\").margin(1) # add 10px contour\n",
        "# clip1 = clip1.fx( vfx.colorx, 1.3)\n",
        "# # clip2 = clip1.fx( vfx.mirror_y)\n",
        "# # clip3 = clip1.fx( vfx.mirror_x)\n",
        "# # clip4 = clip1.fx( vfx.mirror_y)\n",
        "# # clip5 = clip1.fx( vfx.colorx, 1.3) # up 40%\n",
        "# # modifiedClip1 = clip1.fl_image( invert_red_green )\n",
        "# # modifiedClip2 = clip1.fl_image( invert_green_blue )\n",
        "# final_clip = clips_array([[clip1]])\n",
        "# final_clip.write_videofile(\"/content/Cartoonizer/fx_stack\"+video_name +\".mp4\")\n",
        "\n",
        "\n"
      ],
      "execution_count": 0,
      "outputs": []
    },
    {
      "cell_type": "code",
      "metadata": {
        "id": "I3C5JwoLUMEd",
        "colab_type": "code",
        "colab": {}
      },
      "source": [
        "\n",
        "# from google.colab import drive\n",
        "# import os\n",
        "# video_name='trainrolsin'\n",
        "# drive.mount('/content/drive')\n",
        "# if not os.path.exists(\"/content/drive/My Drive/\"+video_name):\n",
        "#   os.mkdir(\"/content/drive/My Drive/\"+video_name,777)\n",
        "#   os.mkdir(\"/content/drive/My Drive/\"+video_name+\"_frames\",777)\n",
        " \n",
        "# !mv '/content/Cartoonizer/processed_'{video_name}'_frames/*' '/content/drive/My Drive/'{video_name}'_frames/'"
      ],
      "execution_count": 0,
      "outputs": []
    },
    {
      "cell_type": "code",
      "metadata": {
        "id": "-1joZEA3gQAe",
        "colab_type": "code",
        "colab": {}
      },
      "source": [
        "# %from moviepy.editor import *\n",
        "# clip = (VideoFileClip( root+ video_name \" + \".mp4\")\n",
        "# #         .fx( vfx.resize, width=460) # resize (keep aspect ratio)\n",
        "# #         .fx( vfx.speedx, 2) # double the speed\n",
        "#         .fx( vfx.colorx, 1.3)) # darken the picture\n",
        "\n",
        "# clip.write_videofile(\"brighness_video_name.mp4\")"
      ],
      "execution_count": 0,
      "outputs": []
    },
    {
      "cell_type": "code",
      "metadata": {
        "id": "mTDh-xFwgor1",
        "colab_type": "code",
        "colab": {}
      },
      "source": [
        "# from moviepy.editor import VideoFileClip, concatenate_videoclips\n",
        "# clip1 = VideoFileClip( root + video_name \" + \".mp4\")\n",
        "# clip2 = VideoFileClip( root + video_name \" + \".mp4\").subclip(50,60)\n",
        "# clip3 = VideoFileClip( root + video_name \" + \".mp4\")\n",
        "# # final_clip = concatenate_videoclips([clip1,clip2,clip3])\n",
        "# final_clip = clips_array([[clip1, clip2],\n",
        "#                           [clip3, clip4]])\n",
        "# final_clip.write_videofile(video_name+\"_concatenation.mp4\")"
      ],
      "execution_count": 0,
      "outputs": []
    },
    {
      "cell_type": "code",
      "metadata": {
        "id": "WpR6xyop90M_",
        "colab_type": "code",
        "cellView": "both",
        "colab": {}
      },
      "source": [
        "# # All input widgets!\n",
        "# sys.exit()\n",
        "# #@title Example form fields\n",
        "# #@markdown Forms support many types of fields.\n",
        "\n",
        "# no_type_checking = 'name'  #@param\n",
        "# string_type = 'example'  #@param {type: \"string\"}\n",
        "# slider_value = 179  #@param {type: \"slider\", min: 100, max: 200}\n",
        "# number = 102  #@param {type: \"number\"}\n",
        "# date = '2010-11-05'  #@param {type: \"date\"}\n",
        "# pick_me = \"monday\"  #@param ['monday', 'tuesday', 'wednesday', 'thursday']\n",
        "# select_or_input = \"apples\" #@param [\"apples\", \"bananas\", \"oranges\"] {allow-input: true}\n",
        "# #@markdown ---\n"
      ],
      "execution_count": 0,
      "outputs": []
    },
    {
      "cell_type": "code",
      "metadata": {
        "id": "g7Cz31u8-Tp2",
        "colab_type": "code",
        "colab": {}
      },
      "source": [
        "# from IPython.display import display, Javascript\n",
        "# from google.colab.output import eval_js\n",
        "# from base64 import b64decode\n",
        "\n",
        "# def take_photo(filename='photo.jpg', quality=0.8):\n",
        "#   js = Javascript('''\n",
        "#     async function takePhoto(quality) {\n",
        "#       const div = document.createElement('div');\n",
        "#       const capture = document.createElement('button');\n",
        "#       capture.textContent = 'Capture';\n",
        "#       div.appendChild(capture);\n",
        "\n",
        "#       const video = document.createElement('video');\n",
        "#       video.style.display = 'block';\n",
        "#       const stream = await navigator.mediaDevices.getUserMedia({video: true});\n",
        "\n",
        "#       document.body.appendChild(div);\n",
        "#       div.appendChild(video);\n",
        "#       video.srcObject = stream;\n",
        "#       await video.play();\n",
        "\n",
        "#       // Resize the output to fit the video element.\n",
        "#       google.colab.output.setIframeHeight(document.documentElement.scrollHeight, true);\n",
        "\n",
        "#       // Wait for Capture to be clicked.\n",
        "#       await new Promise((resolve) => capture.onclick = resolve);\n",
        "\n",
        "#       const canvas = document.createElement('canvas');\n",
        "#       canvas.width = video.videoWidth;\n",
        "#       canvas.height = video.videoHeight;\n",
        "#       canvas.getContext('2d').drawImage(video, 0, 0);\n",
        "#       stream.getVideoTracks()[0].stop();\n",
        "#       div.remove();\n",
        "#       return canvas.toDataURL('image/jpeg', quality);\n",
        "#     }\n",
        "#     ''')\n",
        "#   display(js)\n",
        "#   data = eval_js('takePhoto({})'.format(quality))\n",
        "#   binary = b64decode(data.split(',')[1])\n",
        "#   with open(filename, 'wb') as f:\n",
        "#     f.write(binary)\n",
        "#   return filename"
      ],
      "execution_count": 0,
      "outputs": []
    },
    {
      "cell_type": "code",
      "metadata": {
        "id": "oOF0zRYS-Tok",
        "colab_type": "code",
        "colab": {}
      },
      "source": [
        "# from IPython.display import Image\n",
        "# try:\n",
        "#   filename = take_photo()\n",
        "#   print('Saved to {}'.format(filename))\n",
        "  \n",
        "#   # Show the image which was just taken.\n",
        "#   display(Image(filename))\n",
        "# except Exception as err:\n",
        "#   # Errors will be thrown if the user does not have a webcam or if they do not\n",
        "#   # grant the page permission to access it.\n",
        "#   print(str(err))"
      ],
      "execution_count": 0,
      "outputs": []
    },
    {
      "cell_type": "code",
      "metadata": {
        "id": "S89pkBllFU0Y",
        "colab_type": "code",
        "colab": {}
      },
      "source": [
        "# mp4 = open(video_root+\"/final_processed_video.mp4\",'rb').read()\n",
        "# data_url = \"data:video/mp4;base64,\" + b64encode(mp4).decode()\n",
        "# mp4m = open(video_root+\"/final_processed_compare_video.mp4\",'rb').read()\n",
        "# data_url_com = \"data:video/mp4;base64,\" + b64encode(mp4).decode()\n",
        "\n",
        "# HTML(\"\"\"\n",
        "# <video width=400 controls>\n",
        "#       <source src=\"%s\" type=\"video/mp4\">\n",
        "# </video>\n",
        "# <video width=400 controls>\n",
        "#       <source src=\"%s\" type=\"video/mp4\">\n",
        "# </video>\n",
        "# \"\"\" % data_url)"
      ],
      "execution_count": 0,
      "outputs": []
    }
  ]
}